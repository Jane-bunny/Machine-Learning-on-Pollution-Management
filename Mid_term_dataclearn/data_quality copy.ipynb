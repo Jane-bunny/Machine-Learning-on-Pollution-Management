{
 "cells": [
  {
   "cell_type": "markdown",
   "metadata": {},
   "source": [
    "# **Data Preprocessing for Machine Learning Project**\n",
    "\n",
    "This project aims to conduct a \n",
    "\n",
    "\n",
    "## **Table of content**\n",
    "1. Define data quality criteria\n",
    "2. Import libaries and load the dataset\n",
    "3. Understand and explore the dataset\n",
    "- *3.1 Understand the dataset*\n",
    "- *3.2 Understand the context with data visualisation*\n",
    "4. Further analyse dataset quality\n",
    "- *4.1 Analyse data quality*\n",
    "- *4.2 Analyse data relevance*\n",
    "5. Preprocessing for ML model\n",
    "- *5.1 Handle data quality issues*\n",
    "- *5.2 Save versions of dataset*\n",
    "6. Validation and Testing"
   ]
  },
  {
   "cell_type": "markdown",
   "metadata": {},
   "source": [
    "<div style=\"border-top: 7px solid #800080; animation: sparkling 2s linear infinite;\"></div>\n",
    "\n",
    "<style>\n",
    "@keyframes sparkling {\n",
    "  0% { background-position: 0 0; }\n",
    "  100% { background-position: 100% 0; }\n",
    "}\n",
    "</style>"
   ]
  },
  {
   "cell_type": "markdown",
   "metadata": {},
   "source": [
    "### **1 Define data quality criteria**\n",
    "Data sources: given dataset in excel file format.\n",
    "- Data should be consistent with uniform data type, size, pattern, and format for each attribute\n",
    "- Data should be complete, no missing values\n",
    "- Data should be accurate and valid, no errors\n",
    "- Data should have be relevant and have meaningful arributes"
   ]
  },
  {
   "cell_type": "markdown",
   "metadata": {},
   "source": [
    "<div style=\"border-top: 3px solid #800080; animation: sparkling 2s linear infinite;\"></div>\n",
    "\n",
    "<style>\n",
    "@keyframes sparkling {\n",
    "  0% { background-position: 0 0; }\n",
    "  100% { background-position: 100% 0; }\n",
    "}\n",
    "</style>"
   ]
  },
  {
   "cell_type": "markdown",
   "metadata": {},
   "source": [
    "### **2 Import libraries and load the dataset**\n",
    "- Import the relevant libraries\n",
    "- Load the dataset"
   ]
  },
  {
   "cell_type": "code",
   "execution_count": 1,
   "metadata": {},
   "outputs": [],
   "source": [
    "# Import the libraries.\n",
    "import pandas as pd\n",
    "import numpy as np\n",
    "import seaborn as sns\n",
    "import matplotlib.pyplot as plt\n",
    "from scipy.stats import chi2_contingency\n",
    "from sklearn.preprocessing import LabelEncoder"
   ]
  },
  {
   "cell_type": "code",
   "execution_count": 2,
   "metadata": {},
   "outputs": [],
   "source": [
    "# load the data.\n",
    "df = pd.read_excel(\"SIS_Faculty-List.xlsx\")"
   ]
  },
  {
   "cell_type": "markdown",
   "metadata": {},
   "source": [
    "<div style=\"border-top: 3px solid #800080; animation: sparkling 2s linear infinite;\"></div>\n",
    "\n",
    "<style>\n",
    "@keyframes sparkling {\n",
    "  0% { background-position: 0 0; }\n",
    "  100% { background-position: 100% 0; }\n",
    "}\n",
    "</style>"
   ]
  },
  {
   "cell_type": "markdown",
   "metadata": {},
   "source": [
    "### 3 **Understand and explore the dataset**\n",
    "#### **3.1 Understand the dataset**\n",
    "- Display dataset for first impression\n",
    "- Get an overview\n",
    "- Understand attributes\n",
    "- Understand unique values and their frequencies of each variable\n",
    "- Understand relationship between features"
   ]
  },
  {
   "cell_type": "markdown",
   "metadata": {},
   "source": [
    "##### Display dataset"
   ]
  },
  {
   "cell_type": "code",
   "execution_count": 3,
   "metadata": {},
   "outputs": [
    {
     "data": {
      "text/html": [
       "<div>\n",
       "<style scoped>\n",
       "    .dataframe tbody tr th:only-of-type {\n",
       "        vertical-align: middle;\n",
       "    }\n",
       "\n",
       "    .dataframe tbody tr th {\n",
       "        vertical-align: top;\n",
       "    }\n",
       "\n",
       "    .dataframe thead th {\n",
       "        text-align: right;\n",
       "    }\n",
       "</style>\n",
       "<table border=\"1\" class=\"dataframe\">\n",
       "  <thead>\n",
       "    <tr style=\"text-align: right;\">\n",
       "      <th></th>\n",
       "      <th>ID</th>\n",
       "      <th>Name</th>\n",
       "      <th>Location</th>\n",
       "      <th>Grade</th>\n",
       "      <th>Title</th>\n",
       "      <th>Join\\nDate</th>\n",
       "      <th>LWD</th>\n",
       "      <th>Type</th>\n",
       "      <th>Divison</th>\n",
       "      <th>Reports To</th>\n",
       "      <th>Highest\\nQualification\\nLevel</th>\n",
       "      <th>Highest Qualification</th>\n",
       "      <th>Major</th>\n",
       "      <th>University</th>\n",
       "      <th>All Qualifications from Profile</th>\n",
       "      <th>Courses Taught- Term 201510</th>\n",
       "      <th>MAJOR TEACHING FIELD</th>\n",
       "      <th>DOCUMENT OTHER PROFESSIONAL CERTIFICATION CRITIERA Five Years Work Experience Teaching Excellence Professional Certifications</th>\n",
       "      <th>Criteria</th>\n",
       "    </tr>\n",
       "  </thead>\n",
       "  <tbody>\n",
       "    <tr>\n",
       "      <th>0</th>\n",
       "      <td>LT9210743</td>\n",
       "      <td>Jim Hunter</td>\n",
       "      <td>London</td>\n",
       "      <td>FA</td>\n",
       "      <td>Faculty - Business</td>\n",
       "      <td>2010-08-29</td>\n",
       "      <td>NaT</td>\n",
       "      <td>Full Time</td>\n",
       "      <td>Business</td>\n",
       "      <td>Abbas Houda</td>\n",
       "      <td>Masters</td>\n",
       "      <td>Master of Arts</td>\n",
       "      <td>International Affairs</td>\n",
       "      <td>American University of Beirut</td>\n",
       "      <td>Bachelor of Science (Communications), Master o...</td>\n",
       "      <td>BUS2403 - Innovation &amp; Entrepreneurship\\nBUS20...</td>\n",
       "      <td>Business Administration</td>\n",
       "      <td>10+ Years Small Business Ownership, 10+ Years ...</td>\n",
       "      <td>Industry &amp; Teaching experience</td>\n",
       "    </tr>\n",
       "    <tr>\n",
       "      <th>1</th>\n",
       "      <td>LT9001784</td>\n",
       "      <td>Jose Nadal</td>\n",
       "      <td>London</td>\n",
       "      <td>FA</td>\n",
       "      <td>Faculty - Business</td>\n",
       "      <td>1999-08-19</td>\n",
       "      <td>NaT</td>\n",
       "      <td>Full Time</td>\n",
       "      <td>Business</td>\n",
       "      <td>Abbas Houda</td>\n",
       "      <td>Masters</td>\n",
       "      <td>Master of Science</td>\n",
       "      <td>Business Info. Technology</td>\n",
       "      <td>University of Northumbria</td>\n",
       "      <td>Bachelor of Arts (Finance), Certificate (Manag...</td>\n",
       "      <td>BUS4173 - Managerial Accounting II\\nBUS4916 - ...</td>\n",
       "      <td>Business</td>\n",
       "      <td>years of teaching experience: 17              ...</td>\n",
       "      <td>Certification</td>\n",
       "    </tr>\n",
       "    <tr>\n",
       "      <th>2</th>\n",
       "      <td>LT9062955</td>\n",
       "      <td>Pierre Cornet</td>\n",
       "      <td>London</td>\n",
       "      <td>FA</td>\n",
       "      <td>Faculty - Business</td>\n",
       "      <td>2007-04-08</td>\n",
       "      <td>NaT</td>\n",
       "      <td>Full Time</td>\n",
       "      <td>Business</td>\n",
       "      <td>Abbas Houda</td>\n",
       "      <td>Masters</td>\n",
       "      <td>Master of Business Administrat</td>\n",
       "      <td>Marketing</td>\n",
       "      <td>Griffith University</td>\n",
       "      <td>Certificate (Educating/Teaching Adult), Associ...</td>\n",
       "      <td>BUS3903 - Contemporary Business\\nBUS1303 - Mar...</td>\n",
       "      <td>Marketing and Strategic Management</td>\n",
       "      <td>Years of teaching experience: 15\\nYears of pro...</td>\n",
       "      <td>Industry &amp; Teaching experience</td>\n",
       "    </tr>\n",
       "    <tr>\n",
       "      <th>3</th>\n",
       "      <td>0</td>\n",
       "      <td>Sally Smith</td>\n",
       "      <td>London</td>\n",
       "      <td>FA</td>\n",
       "      <td>Faculty - Business</td>\n",
       "      <td>2016-08-14</td>\n",
       "      <td>NaT</td>\n",
       "      <td>Full Time</td>\n",
       "      <td>Business</td>\n",
       "      <td>Abbas Houda</td>\n",
       "      <td>Ph.D</td>\n",
       "      <td>Ph.D in HRM/ Organizational pyschology</td>\n",
       "      <td>HRM/ Organizational Psychology</td>\n",
       "      <td>The University of Swansea, UK</td>\n",
       "      <td>Bachelor(finance &amp; Mgt), Masters(MBA &amp; Masters...</td>\n",
       "      <td>HRM, Organizational behaviour, Strategic Mgt, ...</td>\n",
       "      <td>HRM</td>\n",
       "      <td>6 years professional experience + 6 years teac...</td>\n",
       "      <td>Researcher</td>\n",
       "    </tr>\n",
       "    <tr>\n",
       "      <th>4</th>\n",
       "      <td>0</td>\n",
       "      <td>Ned Shearer</td>\n",
       "      <td>London</td>\n",
       "      <td>Chair</td>\n",
       "      <td>Faculty - Business</td>\n",
       "      <td>2016-08-14</td>\n",
       "      <td>NaT</td>\n",
       "      <td>Full Time</td>\n",
       "      <td>Business</td>\n",
       "      <td>Tony Emmanuel</td>\n",
       "      <td>Ph.D</td>\n",
       "      <td>Ph.D in Economics and International Business</td>\n",
       "      <td>Economics and International Business</td>\n",
       "      <td>New York University, USA</td>\n",
       "      <td>Bachelor( Economics), Masters( Economics and I...</td>\n",
       "      <td>Micro and Macroeconomics, Statistics,Introduct...</td>\n",
       "      <td>Economics and International Business</td>\n",
       "      <td>1 year professional experience + 24 years teac...</td>\n",
       "      <td>Researcher/Curriculum Development</td>\n",
       "    </tr>\n",
       "  </tbody>\n",
       "</table>\n",
       "</div>"
      ],
      "text/plain": [
       "          ID           Name Location  Grade               Title Join\\nDate  \\\n",
       "0  LT9210743     Jim Hunter   London     FA  Faculty - Business 2010-08-29   \n",
       "1  LT9001784     Jose Nadal   London     FA  Faculty - Business 1999-08-19   \n",
       "2  LT9062955  Pierre Cornet   London     FA  Faculty - Business 2007-04-08   \n",
       "3          0    Sally Smith   London     FA  Faculty - Business 2016-08-14   \n",
       "4          0   Ned Shearer    London  Chair  Faculty - Business 2016-08-14   \n",
       "\n",
       "  LWD       Type   Divison     Reports To Highest\\nQualification\\nLevel  \\\n",
       "0 NaT  Full Time  Business    Abbas Houda                       Masters   \n",
       "1 NaT  Full Time  Business    Abbas Houda                       Masters   \n",
       "2 NaT  Full Time  Business    Abbas Houda                       Masters   \n",
       "3 NaT  Full Time  Business    Abbas Houda                          Ph.D   \n",
       "4 NaT  Full Time  Business  Tony Emmanuel                          Ph.D   \n",
       "\n",
       "                           Highest Qualification  \\\n",
       "0                                 Master of Arts   \n",
       "1                              Master of Science   \n",
       "2                 Master of Business Administrat   \n",
       "3         Ph.D in HRM/ Organizational pyschology   \n",
       "4  Ph.D in Economics and International Business    \n",
       "\n",
       "                                   Major                     University  \\\n",
       "0                  International Affairs  American University of Beirut   \n",
       "1              Business Info. Technology      University of Northumbria   \n",
       "2                              Marketing            Griffith University   \n",
       "3         HRM/ Organizational Psychology  The University of Swansea, UK   \n",
       "4  Economics and International Business        New York University, USA   \n",
       "\n",
       "                     All Qualifications from Profile  \\\n",
       "0  Bachelor of Science (Communications), Master o...   \n",
       "1  Bachelor of Arts (Finance), Certificate (Manag...   \n",
       "2  Certificate (Educating/Teaching Adult), Associ...   \n",
       "3  Bachelor(finance & Mgt), Masters(MBA & Masters...   \n",
       "4  Bachelor( Economics), Masters( Economics and I...   \n",
       "\n",
       "                         Courses Taught- Term 201510  \\\n",
       "0  BUS2403 - Innovation & Entrepreneurship\\nBUS20...   \n",
       "1  BUS4173 - Managerial Accounting II\\nBUS4916 - ...   \n",
       "2  BUS3903 - Contemporary Business\\nBUS1303 - Mar...   \n",
       "3  HRM, Organizational behaviour, Strategic Mgt, ...   \n",
       "4  Micro and Macroeconomics, Statistics,Introduct...   \n",
       "\n",
       "                    MAJOR TEACHING FIELD  \\\n",
       "0                Business Administration   \n",
       "1                               Business   \n",
       "2    Marketing and Strategic Management    \n",
       "3                                    HRM   \n",
       "4  Economics and International Business    \n",
       "\n",
       "  DOCUMENT OTHER PROFESSIONAL CERTIFICATION CRITIERA Five Years Work Experience Teaching Excellence Professional Certifications  \\\n",
       "0  10+ Years Small Business Ownership, 10+ Years ...                                                                              \n",
       "1  years of teaching experience: 17              ...                                                                              \n",
       "2  Years of teaching experience: 15\\nYears of pro...                                                                              \n",
       "3  6 years professional experience + 6 years teac...                                                                              \n",
       "4  1 year professional experience + 24 years teac...                                                                              \n",
       "\n",
       "                            Criteria  \n",
       "0     Industry & Teaching experience  \n",
       "1                      Certification  \n",
       "2     Industry & Teaching experience  \n",
       "3                         Researcher  \n",
       "4  Researcher/Curriculum Development  "
      ]
     },
     "execution_count": 3,
     "metadata": {},
     "output_type": "execute_result"
    }
   ],
   "source": [
    "# Display the first few rows of the DateFrame to have first impression.\n",
    "df.head()"
   ]
  },
  {
   "cell_type": "markdown",
   "metadata": {},
   "source": [
    "Note: inconsistent formats. Formats, case and length of some column names need to be changed. \n",
    "Some column names are not so clearly labeled."
   ]
  },
  {
   "cell_type": "markdown",
   "metadata": {},
   "source": [
    "##### Get an overview "
   ]
  },
  {
   "cell_type": "code",
   "execution_count": 4,
   "metadata": {},
   "outputs": [
    {
     "name": "stdout",
     "output_type": "stream",
     "text": [
      "<class 'pandas.core.frame.DataFrame'>\n",
      "RangeIndex: 284 entries, 0 to 283\n",
      "Data columns (total 19 columns):\n",
      " #   Column                                                                                                                         Non-Null Count  Dtype         \n",
      "---  ------                                                                                                                         --------------  -----         \n",
      " 0   ID                                                                                                                             282 non-null    object        \n",
      " 1   Name                                                                                                                           284 non-null    object        \n",
      " 2   Location                                                                                                                       270 non-null    object        \n",
      " 3   Grade                                                                                                                          284 non-null    object        \n",
      " 4   Title                                                                                                                          284 non-null    object        \n",
      " 5   Join\n",
      "Date                                                                                                                      283 non-null    datetime64[ns]\n",
      " 6   LWD                                                                                                                            11 non-null     datetime64[ns]\n",
      " 7   Type                                                                                                                           284 non-null    object        \n",
      " 8   Divison                                                                                                                        284 non-null    object        \n",
      " 9   Reports To                                                                                                                     280 non-null    object        \n",
      " 10  Highest\n",
      "Qualification\n",
      "Level                                                                                                    278 non-null    object        \n",
      " 11  Highest Qualification                                                                                                          278 non-null    object        \n",
      " 12  Major                                                                                                                          262 non-null    object        \n",
      " 13  University                                                                                                                     278 non-null    object        \n",
      " 14  All Qualifications from Profile                                                                                                274 non-null    object        \n",
      " 15  Courses Taught- Term 201510                                                                                                    273 non-null    object        \n",
      " 16  MAJOR TEACHING FIELD                                                                                                           225 non-null    object        \n",
      " 17  DOCUMENT OTHER PROFESSIONAL CERTIFICATION CRITIERA Five Years Work Experience Teaching Excellence Professional Certifications  222 non-null    object        \n",
      " 18  Criteria                                                                                                                       284 non-null    object        \n",
      "dtypes: datetime64[ns](2), object(17)\n",
      "memory usage: 42.3+ KB\n"
     ]
    }
   ],
   "source": [
    "# Get general information of the dataset.\n",
    "df.info()"
   ]
  },
  {
   "cell_type": "markdown",
   "metadata": {},
   "source": [
    "Note: some varaibles have missing values. 17 variables have 'object' data type, 2 variables have datetime data type."
   ]
  },
  {
   "cell_type": "markdown",
   "metadata": {},
   "source": [
    "##### Understand attributes"
   ]
  },
  {
   "cell_type": "code",
   "execution_count": 5,
   "metadata": {},
   "outputs": [
    {
     "name": "stdout",
     "output_type": "stream",
     "text": [
      "Column Names: Index(['ID', 'Name', 'Location', 'Grade', 'Title', 'Join\\nDate', 'LWD', 'Type',\n",
      "       'Divison', 'Reports To', 'Highest\\nQualification\\nLevel',\n",
      "       'Highest Qualification', 'Major', 'University',\n",
      "       'All Qualifications from Profile', 'Courses Taught- Term 201510',\n",
      "       'MAJOR TEACHING FIELD',\n",
      "       'DOCUMENT OTHER PROFESSIONAL CERTIFICATION CRITIERA Five Years Work Experience Teaching Excellence Professional Certifications',\n",
      "       'Criteria'],\n",
      "      dtype='object')\n"
     ]
    }
   ],
   "source": [
    "# Understand attributes by printing out column names.\n",
    "print(\"Column Names:\", df.columns)"
   ]
  },
  {
   "cell_type": "code",
   "execution_count": 6,
   "metadata": {},
   "outputs": [
    {
     "name": "stdout",
     "output_type": "stream",
     "text": [
      "                 Join\\nDate                  LWD\n",
      "count                   283                   11\n",
      "unique                  143                    2\n",
      "top     2016-08-14 00:00:00  2015-12-17 00:00:00\n",
      "freq                     41                    6\n",
      "first   1989-08-12 00:00:00  2015-12-17 00:00:00\n",
      "last    2016-08-14 00:00:00  2015-12-22 00:00:00\n"
     ]
    },
    {
     "name": "stderr",
     "output_type": "stream",
     "text": [
      "C:\\Users\\stoer\\AppData\\Local\\Temp\\ipykernel_13552\\2982278152.py:2: FutureWarning: Treating datetime data as categorical rather than numeric in `.describe` is deprecated and will be removed in a future version of pandas. Specify `datetime_is_numeric=True` to silence this warning and adopt the future behavior now.\n",
      "  summary1 = df.describe(include = [np.datetime64])\n",
      "C:\\Users\\stoer\\AppData\\Local\\Temp\\ipykernel_13552\\2982278152.py:2: FutureWarning: Treating datetime data as categorical rather than numeric in `.describe` is deprecated and will be removed in a future version of pandas. Specify `datetime_is_numeric=True` to silence this warning and adopt the future behavior now.\n",
      "  summary1 = df.describe(include = [np.datetime64])\n"
     ]
    }
   ],
   "source": [
    "# Describe the attributes with 'datetime' datatype.\n",
    "summary1 = df.describe(include = [np.datetime64])\n",
    "print(summary1)"
   ]
  },
  {
   "cell_type": "markdown",
   "metadata": {},
   "source": [
    "Note: some abnormalities in variable LWD, many missing values. "
   ]
  },
  {
   "cell_type": "code",
   "execution_count": 7,
   "metadata": {},
   "outputs": [
    {
     "name": "stdout",
     "output_type": "stream",
     "text": [
      "         ID           Name Location Grade               Title       Type  \\\n",
      "count   282            284      270   284                 284        284   \n",
      "unique  243            282       16     2                  12          1   \n",
      "top       0  Zikida Koudou  Bristol    FA  Faculty - Business  Full Time   \n",
      "freq     40              2       49   282                 252        284   \n",
      "\n",
      "         Divison  Reports To Highest\\nQualification\\nLevel  \\\n",
      "count        284         280                           278   \n",
      "unique         1          15                            18   \n",
      "top     Business  Ian Varley                       Masters   \n",
      "freq         284          33                           157   \n",
      "\n",
      "                 Highest Qualification                    Major  \\\n",
      "count                              278                      262   \n",
      "unique                              59                      115   \n",
      "top     Master of Business Administrat  Business Administration   \n",
      "freq                                73                       45   \n",
      "\n",
      "                      University  \\\n",
      "count                        278   \n",
      "unique                       214   \n",
      "top     University of Wollongong   \n",
      "freq                           8   \n",
      "\n",
      "                          All Qualifications from Profile  \\\n",
      "count                                                 274   \n",
      "unique                                                262   \n",
      "top     Master of Business Administrat (Business Admin...   \n",
      "freq                                                    7   \n",
      "\n",
      "            Courses Taught- Term 201510 MAJOR TEACHING FIELD  \\\n",
      "count                               273                  225   \n",
      "unique                              269                  143   \n",
      "top     Faculty Trainee/MBA in Progress     General Business   \n",
      "freq                                  2                   19   \n",
      "\n",
      "       DOCUMENT OTHER PROFESSIONAL CERTIFICATION CRITIERA Five Years Work Experience Teaching Excellence Professional Certifications  \\\n",
      "count                                                 222                                                                              \n",
      "unique                                                208                                                                              \n",
      "top                     More than 5 years work experience                                                                              \n",
      "freq                                                   14                                                                              \n",
      "\n",
      "                              Criteria  \n",
      "count                              284  \n",
      "unique                               8  \n",
      "top     Industry & Teaching experience  \n",
      "freq                               231  \n"
     ]
    }
   ],
   "source": [
    "# Describe the attributes with object datatype.\n",
    "summary2 = df.describe(include = 'object')\n",
    "print(summary2)"
   ]
  },
  {
   "cell_type": "markdown",
   "metadata": {},
   "source": [
    "Note: the 'count' of each variable indicates that there are missing values.\n",
    "The 'unique' indicates the amount of different values for each variable. \n",
    "'top' and 'frep' show the most frequent value in each variable and how many this value occurs."
   ]
  },
  {
   "cell_type": "markdown",
   "metadata": {},
   "source": [
    "#### Understand unique values and their frequencies of each variable"
   ]
  },
  {
   "cell_type": "code",
   "execution_count": 8,
   "metadata": {},
   "outputs": [
    {
     "name": "stdout",
     "output_type": "stream",
     "text": [
      "The number of values for feature ID : 244\n",
      "The number of values for feature Name : 282\n",
      "The number of values for feature Location : 17\n",
      "The number of values for feature Grade : 2 -- ['FA' 'Chair']\n",
      "The number of values for feature Title : 12\n",
      "The number of values for datetime feature Join\n",
      "Date : 144\n",
      "The number of values for datetime feature LWD : 3\n",
      "The number of values for feature Type : 1 -- ['Full Time']\n",
      "The number of values for feature Divison : 1 -- ['Business']\n",
      "The number of values for feature Reports To : 16\n",
      "The number of values for feature Highest\n",
      "Qualification\n",
      "Level : 19\n",
      "The number of values for feature Highest Qualification : 60\n",
      "The number of values for feature Major : 116\n",
      "The number of values for feature University : 215\n",
      "The number of values for feature All Qualifications from Profile : 263\n",
      "The number of values for feature Courses Taught- Term 201510 : 270\n",
      "The number of values for feature MAJOR TEACHING FIELD : 144\n",
      "The number of values for feature DOCUMENT OTHER PROFESSIONAL CERTIFICATION CRITIERA Five Years Work Experience Teaching Excellence Professional Certifications : 209\n",
      "The number of values for feature Criteria : 8 -- ['Industry & Teaching experience' 'Certification' 'Researcher'\n",
      " 'Researcher/Curriculum Development'\n",
      " 'Certification/Curriculum Development'\n",
      " 'Certification/Researcher/Curriculum Development' 'Trainee'\n",
      " 'Certification/Researcher']\n"
     ]
    }
   ],
   "source": [
    "for column in df:\n",
    "    if df[column].dtype == 'object':\n",
    "        unique_values = df[column].unique()\n",
    "        no_values = len(unique_values)\n",
    "        if no_values <10:\n",
    "            print('The number of values for feature {} : {} -- {}'.format(column, no_values, unique_values))\n",
    "        else:\n",
    "            print('The number of values for feature {} : {}'.format(column, no_values))\n",
    "\n",
    "    elif df[column].dtype == 'datetime64[ns]':\n",
    "        no_values = len(df[column].unique())\n",
    "        print('The number of values for datetime feature {} : {}'.format(column, no_values))"
   ]
  },
  {
   "cell_type": "markdown",
   "metadata": {},
   "source": [
    "Note: this provides the basis for later to use LabelEncoder. "
   ]
  },
  {
   "cell_type": "markdown",
   "metadata": {},
   "source": [
    "##### Understand relationship between features"
   ]
  },
  {
   "cell_type": "code",
   "execution_count": 9,
   "metadata": {},
   "outputs": [
    {
     "name": "stdout",
     "output_type": "stream",
     "text": [
      "Chi-square value for Highest\n",
      "Qualification\n",
      "Level vs Highest Qualification: 2860.8849987222084\n",
      "p-value for Highest\n",
      "Qualification\n",
      "Level vs Highest Qualification:, 0.0000\n",
      "\n",
      "Chi-square value for Major vs MAJOR TEACHING FIELD: 14372.698555348063\n",
      "p-value for Major vs MAJOR TEACHING FIELD:, 0.0049\n",
      "\n"
     ]
    }
   ],
   "source": [
    "# Define pairs of variables which need to be tested\n",
    "variable_pairs = [('Highest\\nQualification\\nLevel', 'Highest Qualification'), ('Major', 'MAJOR TEACHING FIELD')]\n",
    "\n",
    "# Perform Chi-Square Tests for each pair of variables\n",
    "for var1, var2 in variable_pairs:\n",
    "    cross_tab = pd.crosstab(df[var1], df[var2])\n",
    "    chi2, p, dof, expected = chi2_contingency(cross_tab)\n",
    "    print(f\"Chi-square value for {var1} vs {var2}:\", chi2)\n",
    "    print(f\"p-value for {var1} vs {var2}:, {p:.4f}\")\n",
    "    print() "
   ]
  },
  {
   "cell_type": "markdown",
   "metadata": {},
   "source": [
    "Note: from Chi-tests can see that 'Highest Qualification Level' associates strongly with 'Highest Qualification', the same is for \n",
    "'Major' and 'MAJOR TEACHING FIELD'."
   ]
  },
  {
   "cell_type": "markdown",
   "metadata": {},
   "source": [
    "<div style=\"border-top: 5px solid #E6E6FA; animation: sparkling 2s linear infinite;\"></div>\n",
    "\n",
    "<style>\n",
    "@keyframes sparkling {\n",
    "  0% { background-position: 0 0; }\n",
    "  100% { background-position: 100% 0; }\n",
    "}\n",
    "</style>"
   ]
  },
  {
   "cell_type": "markdown",
   "metadata": {},
   "source": [
    "#### **3.2 Understand context with data visualisation**\n",
    "- Understand distributions\n",
    "- Understand relationship between features"
   ]
  },
  {
   "cell_type": "markdown",
   "metadata": {},
   "source": [
    "##### Understand distributions"
   ]
  },
  {
   "cell_type": "code",
   "execution_count": 10,
   "metadata": {},
   "outputs": [
    {
     "data": {
      "image/png": "[encoded data removed]",
      "text/plain": [
       "<Figure size 1500x1000 with 5 Axes>"
      ]
     },
     "metadata": {},
     "output_type": "display_data"
    }
   ],
   "source": [
    "# Assuming 'df' is your DataFrame\n",
    "variables_to_plot = ['Location', 'Grade', 'Title', 'Reports To', 'Criteria']\n",
    "\n",
    "# Calculate the dimensions of the grid based on the number of variables\n",
    "num_variables = len(variables_to_plot)\n",
    "num_cols = 3  # Number of columns in the grid (adjust as needed)\n",
    "num_rows = (num_variables - 1) // num_cols + 1  # Calculate the number of rows\n",
    "\n",
    "# Create a grid of subplots\n",
    "fig, axes = plt.subplots(num_rows, num_cols, figsize=(15, 10))\n",
    "\n",
    "# Flatten the axes array if there's only one row or one column\n",
    "if num_rows == 1:\n",
    "    axes = axes.reshape(1, -1)\n",
    "if num_cols == 1:\n",
    "    axes = axes.reshape(-1, 1)\n",
    "\n",
    "# Plot each variable on a separate subplot\n",
    "for i, var in enumerate(variables_to_plot):\n",
    "    row_idx = i // num_cols\n",
    "    col_idx = i % num_cols\n",
    "    ax = axes[row_idx, col_idx]\n",
    "    sns.histplot(data=df, x=var, ax=ax)\n",
    "    ax.set_title(f'{var} Distribution')\n",
    "\n",
    "# Remove any empty subplots\n",
    "for i in range(num_variables, num_rows * num_cols):\n",
    "    fig.delaxes(axes.flatten()[i])\n",
    "\n",
    "# Add spacing between subplots\n",
    "plt.tight_layout()\n",
    "\n",
    "# Show the plots\n",
    "plt.show()"
   ]
  },
  {
   "cell_type": "markdown",
   "metadata": {},
   "source": [
    "##### Understand relationship between variables"
   ]
  },
  {
   "cell_type": "code",
   "execution_count": 11,
   "metadata": {},
   "outputs": [
    {
     "data": {
      "image/png": "[encoded data removed]",
      "text/plain": [
       "<Figure size 640x480 with 1 Axes>"
      ]
     },
     "metadata": {},
     "output_type": "display_data"
    }
   ],
   "source": [
    "p = sns.countplot(data = df, x = 'Location', hue = 'Reports To')\n",
    "for container in p.containers:\n",
    "    ax.bar_label(container)"
   ]
  },
  {
   "cell_type": "markdown",
   "metadata": {},
   "source": [
    "Note: the frequency distribution of some variables has shown that some varibales have skewed classes/categories.\n"
   ]
  },
  {
   "cell_type": "markdown",
   "metadata": {},
   "source": [
    "<div style=\"border-top: 3px solid #800080; animation: sparkling 2s linear infinite;\"></div>\n",
    "\n",
    "<style>\n",
    "@keyframes sparkling {\n",
    "  0% { background-position: 0 0; }\n",
    "  100% { background-position: 100% 0; }\n",
    "}\n",
    "</style>"
   ]
  },
  {
   "cell_type": "markdown",
   "metadata": {},
   "source": [
    "### **4 Analyse dataset quality**\n",
    "#### **4.1 Analyse data quality**\n",
    "- Check duplicates\n",
    "- Check missing values\n",
    "- Check errors"
   ]
  },
  {
   "cell_type": "markdown",
   "metadata": {},
   "source": [
    "##### Check duplicates"
   ]
  },
  {
   "cell_type": "code",
   "execution_count": 12,
   "metadata": {},
   "outputs": [
    {
     "name": "stdout",
     "output_type": "stream",
     "text": [
      "Duplicates for ID:      ID                  Name    Location  Grade               Title  \\\n",
      "3    0           Sally Smith      London     FA  Faculty - Business   \n",
      "4    0          Ned Shearer       London  Chair  Faculty - Business   \n",
      "49   0      Bobby Mc Pherson         NaN     FA  Faculty - Business   \n",
      "50   0        Natasha MC Vey         NaN     FA  Faculty - Business   \n",
      "51   0  Roxanne  Middleditch         NaN     FA  Faculty - Business   \n",
      "52   0             Zak Piper         NaN     FA  Faculty - Business   \n",
      "53   0           June Rayner         NaN     FA  Faculty - Business   \n",
      "54   0         Sophia Spicer         NaN     FA  Faculty - Business   \n",
      "55   0           Zoe Spencer         NaN     FA  Faculty - Business   \n",
      "56   0         Lorenzo Spoto         NaN     FA  Faculty - Business   \n",
      "57   0         Richard Terry         NaN     FA  Faculty - Business   \n",
      "58   0          Fawne Vidler         NaN     FA  Faculty - Business   \n",
      "102  0   Sebastian Alexander     Bristol     FA  Faculty - Business   \n",
      "103  0        Kate Mclocklan     Bristol     FA  Faculty - Business   \n",
      "104  0        Nicolas Caisip     Bristol     FA  Faculty - Business   \n",
      "105  0          Paul Statham     Bristol     FA  Faculty - Business   \n",
      "106  0       Muhammad Kamran     Bristol     FA  Faculty - Business   \n",
      "107  0        Bridlington Yb     Bristol     FA  Faculty - Business   \n",
      "132  0    Todd Cassius Stone    Cardiff      FA  Faculty - Business   \n",
      "133  0        Shazia Chowdry    Cardiff      FA  Faculty - Business   \n",
      "179  0       Richard Oyedeji     Belfast     FA  Faculty - Business   \n",
      "200  0      Christel Halls         Leeds     FA  Faculty - Business   \n",
      "201  0       Celesta Kinne         Leeds  Chair  Faculty - Business   \n",
      "209  0         Oliva Urman    Birmingham     FA  Faculty - Business   \n",
      "210  0       Eneida Gonser    Birmingham     FA  Faculty - Business   \n",
      "225  0       Werner Zirkle        Oxford     FA  Faculty - Business   \n",
      "226  0       Crystle Lamay        Oxford     FA  Faculty - Business   \n",
      "227  0      Farah Linneman        Oxford     FA  Faculty - Business   \n",
      "228  0       Shenita Rimes        Oxford     FA  Faculty - Business   \n",
      "229  0   Assunta Batchelor        Oxford     FA  Faculty - Business   \n",
      "230  0      Carrie Keasler        Oxford     FA  Faculty - Business   \n",
      "247  0      Hermila Dailey     Leicester     FA  Faculty - Business   \n",
      "248  0        Kali Tarrant     Leicester     FA  Faculty - Business   \n",
      "249  0        Edda Hoggard     Leicester     FA  Faculty - Business   \n",
      "278  0      Lorine Lawalin     Cambridge     FA  Faculty - Business   \n",
      "279  0        Cami Wiegand     Cambridge     FA  Faculty - Business   \n",
      "280  0         Alan Sheely     Cambridge     FA  Faculty - Business   \n",
      "281  0        Allison Gall     Cambridge     FA  Faculty - Business   \n",
      "282  0          Myles Tena     Cambridge     FA  Faculty - Business   \n",
      "283  0      Dessie Burruss     Cambridge     FA  Faculty - Business   \n",
      "\n",
      "    Join\\nDate LWD       Type   Divison      Reports To  \\\n",
      "3   2016-08-14 NaT  Full Time  Business     Abbas Houda   \n",
      "4   2016-08-14 NaT  Full Time  Business   Tony Emmanuel   \n",
      "49  2016-08-14 NaT  Full Time  Business     Abbas Houda   \n",
      "50  2016-08-14 NaT  Full Time  Business      Ian Varley   \n",
      "51  2016-08-14 NaT  Full Time  Business      Ian Varley   \n",
      "52  2016-08-14 NaT  Full Time  Business      Ian Varley   \n",
      "53  2016-08-14 NaT  Full Time  Business      Ian Varley   \n",
      "54  2016-08-14 NaT  Full Time  Business      Ian Varley   \n",
      "55  2016-08-14 NaT  Full Time  Business      Ian Varley   \n",
      "56  2016-08-14 NaT  Full Time  Business      Ian Varley   \n",
      "57  2016-08-14 NaT  Full Time  Business      Ian Varley   \n",
      "58  2016-08-14 NaT  Full Time  Business      Ian Varley   \n",
      "102 2016-08-14 NaT  Full Time  Business    Nick Omotayo   \n",
      "103 2016-08-14 NaT  Full Time  Business    Nick Omotayo   \n",
      "104        NaT NaT  Full Time  Business    Nick Omotayo   \n",
      "105 2016-08-14 NaT  Full Time  Business    Nick Omotayo   \n",
      "106 2016-08-14 NaT  Full Time  Business    Nick Omotayo   \n",
      "107 2016-08-14 NaT  Full Time  Business    Nick Omotayo   \n",
      "132 2016-08-14 NaT  Full Time  Business  Harriet Mensah   \n",
      "133 2016-08-14 NaT  Full Time  Business   Tony Emmanuel   \n",
      "179 2016-08-14 NaT  Full Time  Business     Rob Jenkins   \n",
      "200 2016-08-14 NaT  Full Time  Business    Chris Peters   \n",
      "201 2016-08-14 NaT  Full Time  Business   Tony Emmanuel   \n",
      "209 2016-08-14 NaT  Full Time  Business   Jayne Radford   \n",
      "210 2016-08-14 NaT  Full Time  Business   Jayne Radford   \n",
      "225 2016-08-14 NaT  Full Time  Business   Jayne Radford   \n",
      "226 2016-08-14 NaT  Full Time  Business   Jayne Radford   \n",
      "227 2016-08-14 NaT  Full Time  Business   Jayne Radford   \n",
      "228 2016-08-14 NaT  Full Time  Business   Jayne Radford   \n",
      "229 2016-08-14 NaT  Full Time  Business   Jayne Radford   \n",
      "230 2016-08-14 NaT  Full Time  Business   Jayne Radford   \n",
      "247 2016-08-14 NaT  Full Time  Business   Betty Adewuyi   \n",
      "248 2016-08-14 NaT  Full Time  Business   Betty Adewuyi   \n",
      "249 2016-08-14 NaT  Full Time  Business   Betty Adewuyi   \n",
      "278 2016-08-14 NaT  Full Time  Business    Olu Ebenezer   \n",
      "279 2016-08-14 NaT  Full Time  Business    Olu Ebenezer   \n",
      "280 2016-08-14 NaT  Full Time  Business    Olu Ebenezer   \n",
      "281 2016-08-14 NaT  Full Time  Business    Olu Ebenezer   \n",
      "282 2016-08-14 NaT  Full Time  Business    Olu Ebenezer   \n",
      "283 2016-08-14 NaT  Full Time  Business    Olu Ebenezer   \n",
      "\n",
      "    Highest\\nQualification\\nLevel  \\\n",
      "3                            Ph.D   \n",
      "4                            Ph.D   \n",
      "49                           Ph.D   \n",
      "50                           Ph.D   \n",
      "51                           Ph.D   \n",
      "52                           Ph.D   \n",
      "53                           Ph.D   \n",
      "54                           Ph.D   \n",
      "55                           Ph.D   \n",
      "56                           Ph.D   \n",
      "57                           Ph.D   \n",
      "58                           Ph.D   \n",
      "102                          Ph.D   \n",
      "103                          Ph.D   \n",
      "104                          Ph.D   \n",
      "105                          Ph.D   \n",
      "106                          Ph.D   \n",
      "107                          Ph.D   \n",
      "132                          Ph.D   \n",
      "133                          Ph.D   \n",
      "179                          Ph.D   \n",
      "200                          Ph.D   \n",
      "201                          Ph.D   \n",
      "209                          Ph.D   \n",
      "210                          Ph.D   \n",
      "225                          Ph.D   \n",
      "226                          Ph.D   \n",
      "227                          Ph.D   \n",
      "228                          Ph.D   \n",
      "229                          Ph.D   \n",
      "230                          Ph.D   \n",
      "247                          Ph.D   \n",
      "248                          Ph.D   \n",
      "249                          Ph.D   \n",
      "278                          Ph.D   \n",
      "279                          Ph.D   \n",
      "280                          Ph.D   \n",
      "281                          Ph.D   \n",
      "282                          Ph.D   \n",
      "283                          Ph.D   \n",
      "\n",
      "                             Highest Qualification  \\\n",
      "3           Ph.D in HRM/ Organizational pyschology   \n",
      "4    Ph.D in Economics and International Business    \n",
      "49                               Ph.D in Economics   \n",
      "50                               Ph.D in Economics   \n",
      "51                  PhD in Business Administration   \n",
      "52                                            Ph.D   \n",
      "53                 Ph.D in Business Administration   \n",
      "54                                            Ph.D   \n",
      "55                                            Ph.D   \n",
      "56                        PhD In Economic Sciences   \n",
      "57                                            Ph.D   \n",
      "58   Ph.D In education and Human Resources Studies   \n",
      "102                              Ph.D In Economics   \n",
      "103                             Ph.D in Accounting   \n",
      "104                    Ph.D in Management Sciences   \n",
      "105                                           Ph.D   \n",
      "106                            Ph.D in Management    \n",
      "107                                           Ph.D   \n",
      "132                             Ph.D In Accounting   \n",
      "133                                           Ph.D   \n",
      "179                Ph.D in Business Administration   \n",
      "200                                           Ph.D   \n",
      "201                                           Ph.D   \n",
      "209                                           Ph.D   \n",
      "210                                           Ph.D   \n",
      "225                                           Ph.D   \n",
      "226                Ph.D in Business Administration   \n",
      "227                                           Ph.D   \n",
      "228                Ph.D in Business Administration   \n",
      "229                Ph.D in Business Administration   \n",
      "230                                           Ph.D   \n",
      "247                    Ph.D in Business Management   \n",
      "248                                           Ph.D   \n",
      "249                                           Ph.D   \n",
      "278     Ph.D In Middle eastern and Islamic Studies   \n",
      "279                         Economics and Business   \n",
      "280                             Management Science   \n",
      "281                                           Ph.D   \n",
      "282                                           Ph.D   \n",
      "283      Ph.D in Public Policy and Administration    \n",
      "\n",
      "                                       Major  \\\n",
      "3             HRM/ Organizational Psychology   \n",
      "4      Economics and International Business    \n",
      "49                                 Economics   \n",
      "50                                Economics    \n",
      "51                           HRM and tourism   \n",
      "52   Managerial Economics/ Business Strategy   \n",
      "53                                Management   \n",
      "54     Finance and Islamic Banking & Finance   \n",
      "55                                E-Business   \n",
      "56                        Economics Sciences   \n",
      "57                      Financial Economics    \n",
      "58                     HRM and Strategic Mgt   \n",
      "102                          Islamic Finance   \n",
      "103                     Accounting & Finance   \n",
      "104                                      HRM   \n",
      "105        HRM and Organizational Behaviour    \n",
      "106                      Finance/ Economics    \n",
      "107              Human Resource Development    \n",
      "132                               Accounting   \n",
      "133                                      HRD   \n",
      "179                                  Finance   \n",
      "200                       Advance Accounting   \n",
      "201                      Management Sciences   \n",
      "209                                Economics   \n",
      "210            Management Information System   \n",
      "225                               Management   \n",
      "226                               Management   \n",
      "227              Organization and Management   \n",
      "228                     Business Leadership    \n",
      "229                    Accounting & Finance    \n",
      "230        HRM and Organizational Behaviour    \n",
      "247                               Accounting   \n",
      "248                               Accounting   \n",
      "249                               Accounting   \n",
      "278              Islamic Nanking and Finance   \n",
      "279                                Economics   \n",
      "280                                Marketing   \n",
      "281                                     HRM    \n",
      "282                       Economic Sociology   \n",
      "283             Management and Financial Mgt   \n",
      "\n",
      "                                            University  \\\n",
      "3                        The University of Swansea, UK   \n",
      "4                             New York University, USA   \n",
      "49                      Michigan State University, USA   \n",
      "50                          University of Nebraska,USA   \n",
      "51                  Girne American University, Cyprus    \n",
      "52                    National University of Singapore   \n",
      "53                   Nova Southeastern University, USA   \n",
      "54          International Islamic University< Malaysia   \n",
      "55                        University of Salento, Italy   \n",
      "56                     PaulCezannel University, France   \n",
      "57      University of Paris 1 Pantheon-Sorbonne France   \n",
      "58                      Colorada State University, USA   \n",
      "102  University of Mediterranean, France & Universi...   \n",
      "103                      Amman Arab University, Jordan   \n",
      "104                       University of Tunis, Tunisia   \n",
      "105                       University of Manchester, UK   \n",
      "106                           Rutgers University, USA    \n",
      "107                 Pennsylvania State University, USA   \n",
      "132                           Capella University, USA    \n",
      "133                         University of Nebraska,USA   \n",
      "179                      Nova Southern University, USA   \n",
      "200                       Northcentral University, USA   \n",
      "201                             Walden University, USA   \n",
      "209               University of Pretoria, South Africa   \n",
      "210                             Argosy University, USA   \n",
      "225                         University of Nice, France   \n",
      "226                 Tbilisi State University, Georgia    \n",
      "227                           Capella University, USA    \n",
      "228               Grenoble Ecole de Management, France   \n",
      "229                       Universitidad Azteca, Mexico   \n",
      "230                 Cardiff Metropolian University, UK   \n",
      "247               Philippine Christian University, UAE   \n",
      "248                      Amman Arab University, Jordan   \n",
      "249                        Panteion University, Greece   \n",
      "278                              Durham University, UK   \n",
      "279          South East European University, Macedonia   \n",
      "280            University of Economics, Krakow, Poland   \n",
      "281                   University of Mauritus, Mauritus   \n",
      "282                    University of San Paulo, Brazil   \n",
      "283             Virginia Commonwealth University, USA    \n",
      "\n",
      "                       All Qualifications from Profile  \\\n",
      "3    Bachelor(finance & Mgt), Masters(MBA & Masters...   \n",
      "4    Bachelor( Economics), Masters( Economics and I...   \n",
      "49            Bachelor(Economics), Masters( Economics)   \n",
      "50            Bachelor(Economics), Masters( Economics)   \n",
      "51   Bachelor (international Relations), Masters( I...   \n",
      "52   Bachelor( International Business and Asian Stu...   \n",
      "53              Bachelor( Economics), Masters(Finance)   \n",
      "54   Bachelor(insurance), Masters( Islamic Law/ Jur...   \n",
      "55         Bachelor( Accounting), Masters( Accounting)   \n",
      "56   Bachelor( Business Administration and Marketin...   \n",
      "57   Bachelor( Finance) Masters( Industrial Strateg...   \n",
      "58   Bachelor( Electrical Engineering), Masters( El...   \n",
      "102  Bachelor(Banking and Monetary Economics), Mast...   \n",
      "103  Bachelor(Accounting), Masters(Accounting & Fin...   \n",
      "104                   Bachelor(Finance), Masters( MBA)   \n",
      "105  Bachelor(Organizational Behaviour), Masters(Em...   \n",
      "106  Bachelor( Business Administration), Masters( F...   \n",
      "107  Bachelor( Social Studies), Masters( Social Stu...   \n",
      "132           Bachelor( Accounting), Masters(Taxation)   \n",
      "133  Bachelor( Business Administration), Masters( MBA)   \n",
      "179  Bachelor(marketing), Masters( Business Educati...   \n",
      "200    Bachelor( Accounting(, Masters( MBA-Accounting)   \n",
      "201              Bachelor(Library Arts), Masters( MBA)   \n",
      "209  Bachelor( Statistics and Econometrics), Master...   \n",
      "210  Bachelor( Computer Science), Masters( Computer...   \n",
      "225  Bachelor( Business Studies), Masters( Management)   \n",
      "226             Bachelor( Applied Maths), Master( MBA)   \n",
      "227  Bachelor( Communication(, Masters( Finance and...   \n",
      "228  Bachelor( FInance) Masters(Supply Chain Manage...   \n",
      "229  Bachelor( Accounting & Finance), Masters( Mana...   \n",
      "230                Bachelor( Economics), Masters( MBA)   \n",
      "247               Bachelor( Accounting), Masters( MBA)   \n",
      "248  Bachelor( Accounting & Auditing), Masters( MBA...   \n",
      "249  Bachelor( Accounting & Finance), Masters( Acco...   \n",
      "278              Bachelor( Finance), Masters( Finance)   \n",
      "279  Bachelor( Political Science), Masters( Europea...   \n",
      "280  Bachelor( Foreign Languages), Masters( America...   \n",
      "281  Bachelor( Economics), Masters( Industrial Rela...   \n",
      "282  Bachelor(Economics), Masters( Industrial Engin...   \n",
      "283  Bachelor( Civil Engineering), Masters(Civil En...   \n",
      "\n",
      "                           Courses Taught- Term 201510  \\\n",
      "3    HRM, Organizational behaviour, Strategic Mgt, ...   \n",
      "4    Micro and Macroeconomics, Statistics,Introduct...   \n",
      "49   Micro and Macro Economics, Monetary Theory, An...   \n",
      "50   Micro and Macro Economics, Business Stastics, ...   \n",
      "51   HRM, International Business, TQM, Service Qual...   \n",
      "52   International Business, Innovation, strategic ...   \n",
      "53                             Finance and Mgt courses   \n",
      "54   Islamic Risk Mgt, Islamic Insurance, Islamic F...   \n",
      "55   E-Business, International Business, Strategic Mgt   \n",
      "56                     Managerial Economics, Economics   \n",
      "57   Financial Derivatives, Financial Mgt, Corporat...   \n",
      "58   Quality Mgt, HRM Innovation Strategies, Organi...   \n",
      "102  Financial Derivatives, Investment, Isalmic fin...   \n",
      "103  Auditing, Islamic Accounting, Financial Accoun...   \n",
      "104  Introduction to HRM, Performance Mgt, HR Strat...   \n",
      "105  HRM, Organizational Behaviour, Strategic Mgt, ...   \n",
      "106  Advanced Financial Mgt, Quantitative Business ...   \n",
      "107  HRM,Training and Development, Operations Mgt, ...   \n",
      "132  Financial & Managerial Accounting, Taxation, N...   \n",
      "133  Business Law, Leadership, Risk Mgt, Operations...   \n",
      "179  Money and Banking, Investment Analysis, Cost A...   \n",
      "200  Financial & Managerial Accounting, Auditing an...   \n",
      "201                         HRM and Management courses   \n",
      "209  Micro and Macroeconomics, Statistics, Economet...   \n",
      "210  Datbase Programming, Business Intelligence, Sy...   \n",
      "225  Leadership, Intro to HRM, Performance Mgt, Org...   \n",
      "226  International Business, strategic Mgt, Trainin...   \n",
      "227  HRM, strategic Staffing, Compensation and Bene...   \n",
      "228    Supply Chain, Operations Mgt, Entrepreneurship    \n",
      "229                     Accounting and Finance courses   \n",
      "230         HRM, Corporate Strategy, Business Strategy   \n",
      "247   Managerial Accounting, Taxation, Performance Mgt   \n",
      "248                    Accounting and Auditing courses   \n",
      "249  Finance & Financial Markets, Audit and Interna...   \n",
      "278  Islamic Risk Mgt, Islamic Portfolio Mgt, Islam...   \n",
      "279  intro to Economics, EU laws and Regulations, O...   \n",
      "280  Marketing Management, Marketing Research, Cons...   \n",
      "281  HRM, SHRM, Performance and Reward Mgt, Researc...   \n",
      "282                          Economics and Management    \n",
      "283  Leadership, Organizational Design and Behaviou...   \n",
      "\n",
      "                                  MAJOR TEACHING FIELD  \\\n",
      "3                                                  HRM   \n",
      "4                Economics and International Business    \n",
      "49                                           Economics   \n",
      "50                                           Economics   \n",
      "51                            HRM, Quality and Tourism   \n",
      "52   Strategic Mgt, Supply chain, Innovation, Marke...   \n",
      "53                             Finance and Management    \n",
      "54                     Islamic Finance and Islamic law   \n",
      "55                              E-Business/ Management   \n",
      "56                                           Economics   \n",
      "57                        Finance and Islamic Finance    \n",
      "58   HRM, Quality and Innovation and Entrepreneurship    \n",
      "102                        Islamic Finance and Finance   \n",
      "103                               Accounting & Finance   \n",
      "104                                                HRM   \n",
      "105                                                HRM   \n",
      "106                                  Finance/Economics   \n",
      "107                           HRM and Labour Economics   \n",
      "132                                         Accounting   \n",
      "133                                HRM and Management    \n",
      "179                                                NaN   \n",
      "200                                         Accounting   \n",
      "201                                         Management   \n",
      "209                                          Economics   \n",
      "210                      Management Information System   \n",
      "225                                 Management and HRM   \n",
      "226                                 Management and HRM   \n",
      "227                                                HRM   \n",
      "228                                        Management    \n",
      "229                               Accounting & Finance   \n",
      "230                                                HRM   \n",
      "247                                         Accounting   \n",
      "248                              Accounting & Auditing   \n",
      "249                              Accounting & Finance    \n",
      "278                       Finance and Islamic Finance    \n",
      "279      Economics, policy and general business course   \n",
      "280                                          Marketing   \n",
      "281                                                HRM   \n",
      "282  Financial Mgt, Project Mgt, Entrepreneurial Fi...   \n",
      "283                            Finance and Management    \n",
      "\n",
      "    DOCUMENT OTHER PROFESSIONAL CERTIFICATION CRITIERA Five Years Work Experience Teaching Excellence Professional Certifications  \\\n",
      "3    6 years professional experience + 6 years teac...                                                                              \n",
      "4    1 year professional experience + 24 years teac...                                                                              \n",
      "49   28 years professional experience + 3 years tea...                                                                              \n",
      "50   5 years professional experience + 9 years teac...                                                                              \n",
      "51   5 years professional experience +15 years teac...                                                                              \n",
      "52   5 years professional experience + 8 years teac...                                                                              \n",
      "53   12 years Professional experience+ 9 years teac...                                                                              \n",
      "54     7 years Teaching Experience + active researcher                                                                              \n",
      "55   8 years Professional experience+ 5 years teaching                                                                              \n",
      "56   10 years professional experience + 5 years tea...                                                                              \n",
      "57   14 years professional experience + 20 years te...                                                                              \n",
      "58   8 years Professional experience + 10 years tea...                                                                              \n",
      "102  2 years professional experience + 13 teaching ...                                                                              \n",
      "103  20 professional experience + 5 teaching. Train...                                                                              \n",
      "104  3 years professional experience + 20 years tea...                                                                              \n",
      "105  6 years professional experience + 24 years tea...                                                                              \n",
      "106  12 years professional experience( mainly consu...                                                                              \n",
      "107  17 years Reserach and teaching experience. AAC...                                                                              \n",
      "132  12 years professional experience + 11 years te...                                                                              \n",
      "133  25 years professional experience + 20 years te...                                                                              \n",
      "179  10 years professional experience + 6 years tea...                                                                              \n",
      "200  20 years professional experience + 3 years tea...                                                                              \n",
      "201  6 years professional experience + 21 years tec...                                                                              \n",
      "209  8 years profesional experience +  8 years teac...                                                                              \n",
      "210  6 years professional experience + 8 years teac...                                                                              \n",
      "225  7 years Professional+ 6 years teaching. Member...                                                                              \n",
      "226  16 years professional experience + 4 years tea...                                                                              \n",
      "227  16 years professional experience + 7 years tea...                                                                              \n",
      "228  16 years professional experience + 4 years tea...                                                                              \n",
      "229  15 years professional experience + 4 years tea...                                                                              \n",
      "230  16 years professional (consulting) experience ...                                                                              \n",
      "247  11 years professional experience+ 4 teaching e...                                                                              \n",
      "248  5 years professional experience + 19 years tea...                                                                              \n",
      "249  4.5 years professional experience + 16 years t...                                                                              \n",
      "278  3 years professional experience + 16 years tea...                                                                              \n",
      "279  9 years professional experience+ 11 years teac...                                                                              \n",
      "280  16 years professional( consulting) experience ...                                                                              \n",
      "281  14 years professional experience + 9 years tea...                                                                              \n",
      "282  12 years professional experience + 11 years te...                                                                              \n",
      "283  16 years professional experience +11 year teac...                                                                              \n",
      "\n",
      "                                            Criteria  \n",
      "3                                         Researcher  \n",
      "4                  Researcher/Curriculum Development  \n",
      "49                    Industry & Teaching experience  \n",
      "50                    Industry & Teaching experience  \n",
      "51                                        Researcher  \n",
      "52                                        Researcher  \n",
      "53                    Industry & Teaching experience  \n",
      "54                                        Researcher  \n",
      "55                    Industry & Teaching experience  \n",
      "56                    Industry & Teaching experience  \n",
      "57              Certification/Curriculum Development  \n",
      "58                                        Researcher  \n",
      "102  Certification/Researcher/Curriculum Development  \n",
      "103                   Industry & Teaching experience  \n",
      "104                   Industry & Teaching experience  \n",
      "105                                       Researcher  \n",
      "106                                    Certification  \n",
      "107             Certification/Curriculum Development  \n",
      "132                                    Certification  \n",
      "133                                       Researcher  \n",
      "179                   Industry & Teaching experience  \n",
      "200                                    Certification  \n",
      "201                Researcher/Curriculum Development  \n",
      "209                                       Researcher  \n",
      "210                   Industry & Teaching experience  \n",
      "225                                       Researcher  \n",
      "226                   Industry & Teaching experience  \n",
      "227             Certification/Curriculum Development  \n",
      "228                   Industry & Teaching experience  \n",
      "229                                       Researcher  \n",
      "230                                       Researcher  \n",
      "247                                    Certification  \n",
      "248                                    Certification  \n",
      "249                   Industry & Teaching experience  \n",
      "278                Researcher/Curriculum Development  \n",
      "279                                       Researcher  \n",
      "280                Researcher/Curriculum Development  \n",
      "281                         Certification/Researcher  \n",
      "282                                       Researcher  \n",
      "283                                       Researcher  \n",
      "Duplicates for Name:              ID           Name    Location Grade               Title  \\\n",
      "44   LT9276009  Amanda Hobson  Manchester    FA  Faculty - Business   \n",
      "45   LT9004065  Amanda Hobson         NaN    FA  Faculty - Business   \n",
      "131  LT9234672  Zikida Koudou     Cardiff    FA  Faculty - Business   \n",
      "144  LT9328996  Zikida Koudou     Belfast    FA  Faculty - Business   \n",
      "\n",
      "    Join\\nDate LWD       Type   Divison        Reports To  \\\n",
      "44  2013-08-18 NaT  Full Time  Business        Ian Varley   \n",
      "45  2002-09-16 NaT  Full Time  Business        Ian Varley   \n",
      "131 2012-08-26 NaT  Full Time  Business    Harriet Mensah   \n",
      "144 2015-08-09 NaT  Full Time  Business  Orlamei Princess   \n",
      "\n",
      "    Highest\\nQualification\\nLevel   Highest Qualification  \\\n",
      "44                      Doctorate                    Ph.D   \n",
      "45                      Doctorate  Doctorate in Marketing   \n",
      "131                       Masters                 Masters   \n",
      "144                     Doctorate                    Ph.D   \n",
      "\n",
      "                      Major                  University  \\\n",
      "44      Business Management  Univ of the Sunshine Coast   \n",
      "45                Marketing   University of Westminster   \n",
      "131  Hospitality Management       University of Houston   \n",
      "144       Economics Science    University of Montenegro   \n",
      "\n",
      "                       All Qualifications from Profile  \\\n",
      "44   Ph.D (Business Management), Post Graduate Cert...   \n",
      "45   Master of Business Administrat (Business Admin...   \n",
      "131  Bachelor (Hotel Restaurant Tourism Admin), Mas...   \n",
      "144  Ph.D (Economics Science), Bachelor (Ecological...   \n",
      "\n",
      "                           Courses Taught- Term 201510  \\\n",
      "44   BUS2203 - Business Stats for Managers\\nBUS2303...   \n",
      "45   CSD1023 - The Crime of Smuggling\\nBUS4563 - St...   \n",
      "131  BUS1403 - Business Ethics and Corporate\\nBUS12...   \n",
      "144  BUS3103 - Internat Busi Globalisation\\nBSD2252...   \n",
      "\n",
      "                                  MAJOR TEACHING FIELD  \\\n",
      "44                  Economics/ Business Administration   \n",
      "45                 Business Administration/\\nMarketing   \n",
      "131  Economics/Management/Marketing/Tourism/Hospita...   \n",
      "144                                                NaN   \n",
      "\n",
      "    DOCUMENT OTHER PROFESSIONAL CERTIFICATION CRITIERA Five Years Work Experience Teaching Excellence Professional Certifications  \\\n",
      "44                PGCE, \\n11 years teaching experience                                                                              \n",
      "45   ICDL\\nIRB\\nInstructional Skills Workshops (ISW...                                                                              \n",
      "131  Yrs of Teaching Experience  -  15 years   Prof...                                                                              \n",
      "144                                                NaN                                                                              \n",
      "\n",
      "                           Criteria  \n",
      "44   Industry & Teaching experience  \n",
      "45   Industry & Teaching experience  \n",
      "131                   Certification  \n",
      "144  Industry & Teaching experience  \n"
     ]
    }
   ],
   "source": [
    "# Check duplicates by groupby on 'Name'.\n",
    "duplicate_mask1 = df.groupby('ID')['ID'].transform('size') > 1\n",
    "duplicate_mask2 = df.groupby('Name')['Name'].transform('size') > 1\n",
    "\n",
    "duplicate_ID = df[duplicate_mask1] \n",
    "duplicate_Name = df[duplicate_mask2]\n",
    "print('Duplicates for ID: ', duplicate_ID)\n",
    "print('Duplicates for Name: ', duplicate_Name)"
   ]
  },
  {
   "cell_type": "markdown",
   "metadata": {},
   "source": [
    "Note: by double checking duplicates for ID, missing values of ID identified. \n",
    "For name, the duplicates are not real duplicates, these persons just happen to have the same names."
   ]
  },
  {
   "cell_type": "markdown",
   "metadata": {},
   "source": [
    "##### Check missing values"
   ]
  },
  {
   "cell_type": "code",
   "execution_count": 13,
   "metadata": {},
   "outputs": [
    {
     "data": {
      "text/plain": [
       "ID                                                                                                                                 2\n",
       "Name                                                                                                                               0\n",
       "Location                                                                                                                          14\n",
       "Grade                                                                                                                              0\n",
       "Title                                                                                                                              0\n",
       "Join\\nDate                                                                                                                         1\n",
       "LWD                                                                                                                              273\n",
       "Type                                                                                                                               0\n",
       "Divison                                                                                                                            0\n",
       "Reports To                                                                                                                         4\n",
       "Highest\\nQualification\\nLevel                                                                                                      6\n",
       "Highest Qualification                                                                                                              6\n",
       "Major                                                                                                                             22\n",
       "University                                                                                                                         6\n",
       "All Qualifications from Profile                                                                                                   10\n",
       "Courses Taught- Term 201510                                                                                                       11\n",
       "MAJOR TEACHING FIELD                                                                                                              59\n",
       "DOCUMENT OTHER PROFESSIONAL CERTIFICATION CRITIERA Five Years Work Experience Teaching Excellence Professional Certifications     62\n",
       "Criteria                                                                                                                           0\n",
       "dtype: int64"
      ]
     },
     "execution_count": 13,
     "metadata": {},
     "output_type": "execute_result"
    }
   ],
   "source": [
    "# Summarise the missing values for each column. \n",
    "df.isnull().sum()"
   ]
  },
  {
   "cell_type": "code",
   "execution_count": 14,
   "metadata": {},
   "outputs": [
    {
     "name": "stdout",
     "output_type": "stream",
     "text": [
      "                                                                                                                       Column  MissingPercentage\n",
      "                                                                                                                           ID           0.704225\n",
      "                                                                                                                         Name           0.000000\n",
      "                                                                                                                     Location           4.929577\n",
      "                                                                                                                        Grade           0.000000\n",
      "                                                                                                                        Title           0.000000\n",
      "                                                                                                                   Join\\nDate           0.352113\n",
      "                                                                                                                          LWD          96.126761\n",
      "                                                                                                                         Type           0.000000\n",
      "                                                                                                                      Divison           0.000000\n",
      "                                                                                                                   Reports To           1.408451\n",
      "                                                                                                Highest\\nQualification\\nLevel           2.112676\n",
      "                                                                                                        Highest Qualification           2.112676\n",
      "                                                                                                                        Major           7.746479\n",
      "                                                                                                                   University           2.112676\n",
      "                                                                                              All Qualifications from Profile           3.521127\n",
      "                                                                                                  Courses Taught- Term 201510           3.873239\n",
      "                                                                                                         MAJOR TEACHING FIELD          20.774648\n",
      "DOCUMENT OTHER PROFESSIONAL CERTIFICATION CRITIERA Five Years Work Experience Teaching Excellence Professional Certifications          21.830986\n",
      "                                                                                                                     Criteria           0.000000\n"
     ]
    }
   ],
   "source": [
    "# Calculate the percentage of missing values for each column.\n",
    "# Replace '0' with NaN, only for calculation purpose.\n",
    "df.replace('0', np.nan, inplace=True)\n",
    "# Calculating formula\n",
    "missing_percentages = (df.isnull().sum()/ len(df)) *100\n",
    "# Create missing data DateFrame to present the missing percentage.\n",
    "missing_data_df = pd.DataFrame({'Column': df.columns, 'MissingPercentage': missing_percentages})\n",
    "# Print the DataFrame\n",
    "print(missing_data_df.to_string(index=False))"
   ]
  },
  {
   "cell_type": "markdown",
   "metadata": {},
   "source": [
    "Note: as df.info() in previous session has already indicated if missing values exist for each variable, therefore, it \n",
    "makes more sense to check the sum and the percentage of the missing values for each variable. "
   ]
  },
  {
   "cell_type": "markdown",
   "metadata": {},
   "source": [
    "#### Check errors"
   ]
  },
  {
   "cell_type": "markdown",
   "metadata": {},
   "source": [
    "Note: from the previous analysis, the obvious errors can be summerised as: \n",
    "- Typo in column name\n",
    "- The formats of the column names are inconsistent\n",
    "- Some variables have a very high percentage of missing values\n",
    "- Some variables may have duplicate meanings or correlate strongly with other variables\n",
    "- Some variables may indicate input error such as inconsistent input for the same value(s)"
   ]
  },
  {
   "cell_type": "markdown",
   "metadata": {},
   "source": [
    "<div style=\"border-top: 5px solid #E6E6FA; animation: sparkling 2s linear infinite;\"></div>\n",
    "\n",
    "<style>\n",
    "@keyframes sparkling {\n",
    "  0% { background-position: 0 0; }\n",
    "  100% { background-position: 100% 0; }\n",
    "}\n",
    "</style>"
   ]
  },
  {
   "cell_type": "markdown",
   "metadata": {},
   "source": [
    "#### **4.1 Analyse data relevance**"
   ]
  },
  {
   "cell_type": "markdown",
   "metadata": {},
   "source": [
    "From the previous analysis, some variables are of little importance for ML modeling, such as \"Name\", because it has too many unique values and does not provide any further information for the ML model. 'Type' and 'Devison' have only one value, which does not provide variance for analysis. 'LWD' has too many missing values and its meaning in the dataset is unclear. \n",
    "\n",
    "Other variables such as \"University\" and \"All qualifications from Profile\" have many unique values, but can be retained for now as there may be opportunities to encode later. \n"
   ]
  },
  {
   "cell_type": "markdown",
   "metadata": {},
   "source": [
    "<div style=\"border-top: 3px solid #800080; animation: sparkling 2s linear infinite;\"></div>\n",
    "\n",
    "<style>\n",
    "@keyframes sparkling {\n",
    "  0% { background-position: 0 0; }\n",
    "  100% { background-position: 100% 0; }\n",
    "}\n",
    "</style>"
   ]
  },
  {
   "cell_type": "markdown",
   "metadata": {},
   "source": [
    "### **5 Preprocessing data**\n",
    "#### **5.1 Handel data quality issues**\n",
    "- Handling inconsistency\n",
    "- Handling each variable"
   ]
  },
  {
   "cell_type": "markdown",
   "metadata": {},
   "source": [
    "#### Handling inconsistency"
   ]
  },
  {
   "cell_type": "code",
   "execution_count": 15,
   "metadata": {},
   "outputs": [],
   "source": [
    "# Change column names to title case\n",
    "df.columns = [column.title() for column in df.columns]"
   ]
  },
  {
   "cell_type": "code",
   "execution_count": 16,
   "metadata": {},
   "outputs": [
    {
     "data": {
      "text/plain": [
       "Index(['Id', 'Name', 'Campus', 'Faculty Type', 'Title', 'Join Date',\n",
       "       'Last Working Day', 'Employment Status', 'Division', 'Reports To',\n",
       "       'Highest Qualification Level', 'Highest Qualification', 'Major',\n",
       "       'University', 'All Qualifications From Profile',\n",
       "       'Courses Taught- Term 201510', 'Major Teaching Field',\n",
       "       'Other Professional Certifications', 'Criteria'],\n",
       "      dtype='object')"
      ]
     },
     "execution_count": 16,
     "metadata": {},
     "output_type": "execute_result"
    }
   ],
   "source": [
    "# Rename the columns\n",
    "# Define a dictionary of old column names with the corresponding new column names.\n",
    "column_name_change = {\n",
    "    'Location': 'Campus',\n",
    "    'Grade': 'Faculty Type',\n",
    "    'Join\\nDate': 'Join Date',\n",
    "    'Lwd': 'Last Working Day',\n",
    "    'Divison': 'Division',\n",
    "    'Type': 'Employment Status',\n",
    "    'Highest\\nQualification\\nLevel': 'Highest Qualification Level',\n",
    "    'Document Other Professional Certification Critiera Five Years Work Experience Teaching Excellence Professional Certifications': 'Other Professional Certifications'   \n",
    "}\n",
    "# Rename colunms using rename() method\n",
    "df.rename(columns=column_name_change, inplace=True)\n",
    "df.columns"
   ]
  },
  {
   "cell_type": "markdown",
   "metadata": {},
   "source": [
    "#### Handling each variable\n",
    "Note: it makes more sense to handel each variable in a time. Therefore the following will be handling processes for each variable. Variable 'ID' will be handled in the end to decide the importance and necessisity for keeping."
   ]
  },
  {
   "cell_type": "markdown",
   "metadata": {},
   "source": [
    "Handling 'Name'\n",
    "\n",
    "Decision:\n",
    "- Delation based on data privacy and model importance "
   ]
  },
  {
   "cell_type": "code",
   "execution_count": 17,
   "metadata": {},
   "outputs": [],
   "source": [
    "df = df.drop('Name', axis=1)"
   ]
  },
  {
   "cell_type": "markdown",
   "metadata": {},
   "source": [
    "Handling 'Compus'\n",
    "\n",
    "Decision: \n",
    "- Imputation based on relationship with other variable\n",
    "- LableEncode into categories"
   ]
  },
  {
   "cell_type": "code",
   "execution_count": 18,
   "metadata": {},
   "outputs": [
    {
     "name": "stdout",
     "output_type": "stream",
     "text": [
      "Campus: Belfast reports to Orlamei Princess (Count: 21)\n",
      "Campus: Belfast reports to Rob Jenkins (Count: 25)\n",
      "Campus: Birmingham reports to Jayne Radford (Count: 3)\n",
      "Campus: Bolton reports to Ian Westwood (Count: 6)\n",
      "Campus: Brighton reports to Kim Hughes (Count: 2)\n",
      "Campus: Bristol reports to Daphne Keaton (Count: 22)\n",
      "Campus: Bristol reports to Kim Hughes (Count: 18)\n",
      "Campus: Bristol reports to Nick Omotayo (Count: 7)\n",
      "Campus: Cambridge reports to Betty Adewuyi (Count: 6)\n",
      "Campus: Cambridge reports to Olu Ebenezer (Count: 28)\n",
      "Campus: Cardiff reports to Harriet Mensah (Count: 22)\n",
      "Campus: Cardiff  reports to Harriet Mensah (Count: 1)\n",
      "Campus: Cardiff  reports to Tony Emmanuel (Count: 1)\n",
      "Campus: Glasgow reports to Sean Woods (Count: 4)\n",
      "Campus: Leeds reports to Chris Peters (Count: 1)\n",
      "Campus: Leeds reports to Sean Woods (Count: 16)\n",
      "Campus: Leeds reports to Tony Emmanuel (Count: 1)\n",
      "Campus: Leicester reports to Betty Adewuyi (Count: 13)\n",
      "Campus: Leicester reports to Olu Ebenezer (Count: 3)\n",
      "Campus: Liverpool reports to Abbas Houda (Count: 18)\n",
      "Campus: London reports to Abbas Houda (Count: 4)\n",
      "Campus: London reports to Tony Emmanuel (Count: 1)\n",
      "Campus: Manchester reports to Ian Varley (Count: 20)\n",
      "Campus: Oxford reports to Jayne Radford (Count: 20)\n",
      "Campus: Southampton reports to Ian Westwood (Count: 3)\n"
     ]
    }
   ],
   "source": [
    "# Create a DataFrame to store the relationships\n",
    "location_reporting_df = df.groupby(['Campus', 'Reports To']).size().reset_index(name='Count')\n",
    "\n",
    "# Iterate through the DataFrame and print the relationships\n",
    "for index, row in location_reporting_df.iterrows():\n",
    "    location = row['Campus']\n",
    "    reports_to = row['Reports To']\n",
    "    count = row['Count']\n",
    "    print(f\"Campus: {location} reports to {reports_to} (Count: {count})\")"
   ]
  },
  {
   "cell_type": "code",
   "execution_count": 19,
   "metadata": {},
   "outputs": [
    {
     "name": "stdout",
     "output_type": "stream",
     "text": [
      "45     Ian Varley\n",
      "46     Ian Varley\n",
      "47     Ian Varley\n",
      "48     Ian Varley\n",
      "49    Abbas Houda\n",
      "50     Ian Varley\n",
      "51     Ian Varley\n",
      "52     Ian Varley\n",
      "53     Ian Varley\n",
      "54     Ian Varley\n",
      "55     Ian Varley\n",
      "56     Ian Varley\n",
      "57     Ian Varley\n",
      "58     Ian Varley\n",
      "Name: Reports To, dtype: object\n"
     ]
    }
   ],
   "source": [
    "# Filter rows where 'Campus' is missing\n",
    "missing_campus_df = df[df['Campus'].isna()]\n",
    "\n",
    "# Display the 'Reports To' column for the rows with missing 'Campus'\n",
    "missing_campus_reports_to = missing_campus_df['Reports To']\n",
    "\n",
    "# Print the results\n",
    "print(missing_campus_reports_to)"
   ]
  },
  {
   "cell_type": "markdown",
   "metadata": {},
   "source": [
    "Note:no all missing 'Campus' is related to the same report person."
   ]
  },
  {
   "cell_type": "code",
   "execution_count": 20,
   "metadata": {},
   "outputs": [],
   "source": [
    "# Replace with the actual value to exclude\n",
    "value_to_exclude = 'Abbas Houda'  \n",
    "\n",
    "# Create a condition to identify the rows where 'Campus' is not the value to exclude\n",
    "condition = df['Reports To'] != value_to_exclude\n",
    "\n",
    "# Fill missing values in the 'Campus' column with 'Manchester' for rows that meet the condition\n",
    "df['Campus'] = np.where(condition, df['Campus'].fillna('Manchester'), df['Campus'])"
   ]
  },
  {
   "cell_type": "code",
   "execution_count": 21,
   "metadata": {},
   "outputs": [],
   "source": [
    "# Use pd.get_dummies() to one-hot encode the 'Campus' column\n",
    "one_hot = pd.get_dummies(df['Campus'], prefix='Campus')\n",
    "\n",
    "# Concatenate the one-hot encoded columns with the original DataFrame\n",
    "df = pd.concat([df, one_hot], axis=1)"
   ]
  },
  {
   "cell_type": "markdown",
   "metadata": {},
   "source": [
    "Handling 'Faculty Type'\n",
    "\n",
    "Decision: \n",
    "- LableEncode into categories"
   ]
  },
  {
   "cell_type": "code",
   "execution_count": 22,
   "metadata": {},
   "outputs": [],
   "source": [
    "# Initialise the encoder\n",
    "label_encoder = LabelEncoder()\n",
    "# Encode the 'Faculty Type'\n",
    "df['Faculty TypeE'] = label_encoder.fit_transform(df['Faculty Type'])"
   ]
  },
  {
   "cell_type": "markdown",
   "metadata": {},
   "source": [
    "Handling 'Title'\n",
    "\n",
    "Decision: \n",
    "- Handle inconsistency\n",
    "- LableEncode into categories"
   ]
  },
  {
   "cell_type": "code",
   "execution_count": 23,
   "metadata": {},
   "outputs": [],
   "source": [
    "# Define a standarlise function\n",
    "def standardize_value(value):\n",
    "  \n",
    "    # Additional custom transformations if needed\n",
    "    if value == 'Business, Comp & Math Faculty':\n",
    "        return 'Faculty - Business & Comp Lit.'\n",
    "    elif value == 'Faculty - Business & Comp Lit Faculty':\n",
    "        return 'Faculty - Business & Comp Lit.'\n",
    "    elif value == 'Faculty - Business (Admin)':\n",
    "        return 'Faculty-Business (HR & Admin.)'\n",
    "    elif value == 'Faculty-Business':\n",
    "        return 'Faculty - Business'\n",
    "    elif value ==  'Faculty - Business ':\n",
    "        return 'Faculty - Business'\n",
    "    elif value == 'Faculty- Business':\n",
    "        return 'Faculty - Business'\n",
    "    elif value == 'Graduate Trainee':\n",
    "        return 'Faculty - Trainee'\n",
    "    else:\n",
    "        return value\n",
    "\n",
    "# Apply the custom function to the column\n",
    "df['Title'] = df['Title'].apply(standardize_value)\n"
   ]
  },
  {
   "cell_type": "code",
   "execution_count": 24,
   "metadata": {},
   "outputs": [],
   "source": [
    "# Initialise the encoder\n",
    "label_encoder = LabelEncoder()\n",
    "# Encode 'Title'\n",
    "df['TitleE'] = label_encoder.fit_transform(df['Title'])"
   ]
  },
  {
   "cell_type": "markdown",
   "metadata": {},
   "source": [
    "Handling 'Join Date'\n",
    "\n",
    "Decision: \n",
    "- Filling the missing values\n",
    "- Feature engineering to separate the variable into 'Year', 'Month', and 'Weekday'."
   ]
  },
  {
   "cell_type": "code",
   "execution_count": 25,
   "metadata": {},
   "outputs": [
    {
     "data": {
      "text/plain": [
       "Int64Index([104], dtype='int64')"
      ]
     },
     "execution_count": 25,
     "metadata": {},
     "output_type": "execute_result"
    }
   ],
   "source": [
    "# locate the missing index\n",
    "missing_index = df[df['Join Date'].isna()].index\n",
    "missing_index"
   ]
  },
  {
   "cell_type": "code",
   "execution_count": 26,
   "metadata": {},
   "outputs": [
    {
     "name": "stdout",
     "output_type": "stream",
     "text": [
      "Id                                                                                   0\n",
      "Campus                                                                         Bristol\n",
      "Faculty Type                                                                        FA\n",
      "Title                                                               Faculty - Business\n",
      "Join Date                                                          2016-08-14 00:00:00\n",
      "Last Working Day                                                                   NaT\n",
      "Employment Status                                                            Full Time\n",
      "Division                                                                      Business\n",
      "Reports To                                                                Nick Omotayo\n",
      "Highest Qualification Level                                                       Ph.D\n",
      "Highest Qualification                                               Ph.D in Accounting\n",
      "Major                                                             Accounting & Finance\n",
      "University                                               Amman Arab University, Jordan\n",
      "All Qualifications From Profile      Bachelor(Accounting), Masters(Accounting & Fin...\n",
      "Courses Taught- Term 201510          Auditing, Islamic Accounting, Financial Accoun...\n",
      "Major Teaching Field                                              Accounting & Finance\n",
      "Other Professional Certifications    20 professional experience + 5 teaching. Train...\n",
      "Criteria                                                Industry & Teaching experience\n",
      "Campus_Belfast                                                                       0\n",
      "Campus_Birmingham                                                                    0\n",
      "Campus_Bolton                                                                        0\n",
      "Campus_Brighton                                                                      0\n",
      "Campus_Bristol                                                                       1\n",
      "Campus_Cambridge                                                                     0\n",
      "Campus_Cardiff                                                                       0\n",
      "Campus_Cardiff                                                                       0\n",
      "Campus_Glasgow                                                                       0\n",
      "Campus_Leeds                                                                         0\n",
      "Campus_Leicester                                                                     0\n",
      "Campus_Liverpool                                                                     0\n",
      "Campus_London                                                                        0\n",
      "Campus_Manchester                                                                    0\n",
      "Campus_Oxford                                                                        0\n",
      "Campus_Southampton                                                                   0\n",
      "Faculty TypeE                                                                        1\n",
      "TitleE                                                                               1\n",
      "Name: 103, dtype: object Id                                                                                   0\n",
      "Campus                                                                         Bristol\n",
      "Faculty Type                                                                        FA\n",
      "Title                                                               Faculty - Business\n",
      "Join Date                                                          2016-08-14 00:00:00\n",
      "Last Working Day                                                                   NaT\n",
      "Employment Status                                                            Full Time\n",
      "Division                                                                      Business\n",
      "Reports To                                                                Nick Omotayo\n",
      "Highest Qualification Level                                                       Ph.D\n",
      "Highest Qualification                                                             Ph.D\n",
      "Major                                                HRM and Organizational Behaviour \n",
      "University                                                University of Manchester, UK\n",
      "All Qualifications From Profile      Bachelor(Organizational Behaviour), Masters(Em...\n",
      "Courses Taught- Term 201510          HRM, Organizational Behaviour, Strategic Mgt, ...\n",
      "Major Teaching Field                                                               HRM\n",
      "Other Professional Certifications    6 years professional experience + 24 years tea...\n",
      "Criteria                                                                    Researcher\n",
      "Campus_Belfast                                                                       0\n",
      "Campus_Birmingham                                                                    0\n",
      "Campus_Bolton                                                                        0\n",
      "Campus_Brighton                                                                      0\n",
      "Campus_Bristol                                                                       1\n",
      "Campus_Cambridge                                                                     0\n",
      "Campus_Cardiff                                                                       0\n",
      "Campus_Cardiff                                                                       0\n",
      "Campus_Glasgow                                                                       0\n",
      "Campus_Leeds                                                                         0\n",
      "Campus_Leicester                                                                     0\n",
      "Campus_Liverpool                                                                     0\n",
      "Campus_London                                                                        0\n",
      "Campus_Manchester                                                                    0\n",
      "Campus_Oxford                                                                        0\n",
      "Campus_Southampton                                                                   0\n",
      "Faculty TypeE                                                                        1\n",
      "TitleE                                                                               1\n",
      "Name: 105, dtype: object\n"
     ]
    }
   ],
   "source": [
    "# Replace with the index of the missing value you want to estimate\n",
    "missing_index = 104\n",
    "\n",
    "# Find the index of the record before the missing value\n",
    "before_index = df.iloc[missing_index-1:missing_index].index[0] if missing_index > 0 else None\n",
    "\n",
    "# Find the index of the record after the missing value\n",
    "after_index = df.iloc[missing_index+1:missing_index+2].index[0] if missing_index < len(df) - 1 else None\n",
    "\n",
    "# Extract the records before and after the missing value\n",
    "record_before_missing = df.iloc[before_index] if before_index is not None else None\n",
    "record_after_missing = df.iloc[after_index] if after_index is not None else None\n",
    "\n",
    "print(record_before_missing, record_after_missing)"
   ]
  },
  {
   "cell_type": "code",
   "execution_count": 27,
   "metadata": {},
   "outputs": [],
   "source": [
    "# Filling na\n",
    "df['Join Date'].fillna('2016-08-14', inplace=True)"
   ]
  },
  {
   "cell_type": "code",
   "execution_count": 28,
   "metadata": {},
   "outputs": [],
   "source": [
    "#  Extract Year, Month, and Weekday components. \n",
    "df['Join Year'] = df['Join Date'].dt.year.astype(int)\n",
    "df['Join Month'] = df['Join Date'].dt.month.astype(int)\n",
    "df['Join Weekday'] = df['Join Date'].dt.weekday.astype(int)"
   ]
  },
  {
   "cell_type": "markdown",
   "metadata": {},
   "source": [
    "Handling 'Last Working Day'\n",
    "\n",
    "Decision: \n",
    "- Feature engineering change to 'In Service', with all missing vaules treat as in service, none missing values means not in service."
   ]
  },
  {
   "cell_type": "code",
   "execution_count": 29,
   "metadata": {},
   "outputs": [],
   "source": [
    "# Create a new column to specify as 'In Service Yes/No'\n",
    "df['In Service Yes/No'] = 0\n",
    "\n",
    "# Set in service Yes to 1 for rows where 'Last Working Day' is missing\n",
    "df.loc[df['Last Working Day'].isna(), 'In Service Yes/No'] = 1\n",
    "\n",
    "# Set in service no to 0 for rows where 'Last Working Day' has values\n",
    "df.loc[df['Last Working Day'].notna(), 'In Service Yes/No'] = 0\n"
   ]
  },
  {
   "cell_type": "markdown",
   "metadata": {},
   "source": [
    "Handling 'Employment Status'\n",
    "\n",
    "Decision: \n",
    "- Drop, as the only value is 'Full Time' it does not provide variability and more information. Drop unuseful info can reduce complexity. "
   ]
  },
  {
   "cell_type": "code",
   "execution_count": 30,
   "metadata": {},
   "outputs": [],
   "source": [
    "df = df.drop('Employment Status', axis=1)"
   ]
  },
  {
   "cell_type": "markdown",
   "metadata": {},
   "source": [
    "Handling 'Division'\n",
    "\n",
    "Decision: \n",
    "- Drop, same as 'Employment Status' has only value is 'Business' it does not provide variability and more information. Drop unuseful info can reduce complexity. "
   ]
  },
  {
   "cell_type": "code",
   "execution_count": 31,
   "metadata": {},
   "outputs": [],
   "source": [
    "df = df.drop('Division', axis=1)"
   ]
  },
  {
   "cell_type": "markdown",
   "metadata": {},
   "source": [
    "Handling 'Reports To'\n",
    "\n",
    "Decision: \n",
    "- Handling missing values\n",
    "- Handling inconsistency\n",
    "- LableEncode into categories\n"
   ]
  },
  {
   "cell_type": "code",
   "execution_count": 32,
   "metadata": {},
   "outputs": [
    {
     "name": "stdout",
     "output_type": "stream",
     "text": [
      "21     Liverpool\n",
      "22     Liverpool\n",
      "100      Bristol\n",
      "101      Bristol\n",
      "Name: Campus, dtype: object\n"
     ]
    }
   ],
   "source": [
    "# Filter rows where 'Reports To' is missing\n",
    "missing_reports_df = df[df['Reports To'].isna()]\n",
    "\n",
    "# Display the 'Reports To' column for the rows with missing 'Campus'\n",
    "missing_reports_to_Campus = missing_reports_df['Campus']\n",
    "\n",
    "# Print the results\n",
    "print(missing_reports_to_Campus)"
   ]
  },
  {
   "cell_type": "code",
   "execution_count": 33,
   "metadata": {},
   "outputs": [],
   "source": [
    "# Set a value can be referenced to.\n",
    "value = 'Liverpool'\n",
    "\n",
    "#Fill the missing values based on the replationship from variable 'Campus'\n",
    "df.loc[df['Campus'] == value, 'Reports To'] = df.loc[df['Campus'] == value, 'Reports To'].fillna('Abbas Houda')\n",
    "df.loc[df['Campus'] != value, 'Reports To'] = df.loc[df['Campus'] != value, 'Reports To'].fillna('Nick Omotayo')"
   ]
  },
  {
   "cell_type": "code",
   "execution_count": 34,
   "metadata": {},
   "outputs": [],
   "source": [
    "# Use pd.get_dummies() to one-hot encode the 'Reports To' column\n",
    "one_hot = pd.get_dummies(df['Reports To'], prefix='Reports To')\n",
    "\n",
    "# Concatenate the one-hot encoded columns with the original DataFrame\n",
    "df = pd.concat([df, one_hot], axis=1)"
   ]
  },
  {
   "cell_type": "markdown",
   "metadata": {},
   "source": [
    "Handling 'Highest Qualification Level'\n",
    "\n",
    "Decision: \n",
    "- Locate the missing indexes, as it was shown in the missing value percentages, that 'Highest Qualification Level', 'Highest Qualification' and 'University' all have 2.11% missing values\n",
    "- Handling coorespondently, if all missing values appear for the same rows, then list drop, otherwise try to impute.\n",
    "- LableEncode into categories."
   ]
  },
  {
   "cell_type": "code",
   "execution_count": 35,
   "metadata": {},
   "outputs": [
    {
     "name": "stdout",
     "output_type": "stream",
     "text": [
      "Missing index for Highest Qualification Level:  Int64Index([19, 99, 101, 245, 258, 259], dtype='int64')\n",
      "Missing index for Highest Qualification:  Int64Index([19, 99, 101, 245, 258, 259], dtype='int64')\n",
      "Missing index for University:  Int64Index([19, 99, 101, 245, 258, 259], dtype='int64')\n"
     ]
    }
   ],
   "source": [
    "missing_index_hql = df[df['Highest Qualification Level'].isna()].index\n",
    "missing_index_hq = df[df['Highest Qualification'].isna()].index\n",
    "missing_index_uni = df[df['University'].isna()].index\n",
    "\n",
    "print('Missing index for Highest Qualification Level: ', missing_index_hql)\n",
    "print('Missing index for Highest Qualification: ', missing_index_hq)\n",
    "print('Missing index for University: ', missing_index_uni)"
   ]
  },
  {
   "cell_type": "code",
   "execution_count": 36,
   "metadata": {},
   "outputs": [],
   "source": [
    "# List drop missing value \n",
    "df = df.dropna(subset=['Highest Qualification Level']).reset_index(drop=True)"
   ]
  },
  {
   "cell_type": "code",
   "execution_count": 37,
   "metadata": {},
   "outputs": [],
   "source": [
    "# Define a qualification level DataFrame\n",
    "qualification_data = {'Highest Qualification Level': [\"Doctorate\", \"Ph.D\", \"Doctor\", \"PHD\", \"Master\", \"Masters\", \"Master's\", \"Bachelor\", \"MBA\"]}\n",
    "\n",
    "# Define a function to standardise all the values\n",
    "\n",
    "def standarlise_qualification(quanlification):\n",
    "\n",
    "    if \"Ph.D\" in quanlification or \"Doctorate\" in quanlification or \"Doctor\" in quanlification or \"PHD\" in quanlification:\n",
    "        return \"Ph.D\"\n",
    "    elif \"Master\" in quanlification or \"Masters\" in quanlification or \"Master's\" in quanlification:\n",
    "        return \"Master\"\n",
    "    elif \"Bachelor\" in quanlification:\n",
    "        return \"Bachelor\"\n",
    "    elif \"MBA\" in quanlification:\n",
    "        return \"MBA\"\n",
    "    else:\n",
    "        return quanlification\n",
    "\n",
    "df['Highest Qualification Level'] = df['Highest Qualification Level'].apply(standarlise_qualification)"
   ]
  },
  {
   "cell_type": "code",
   "execution_count": 38,
   "metadata": {},
   "outputs": [],
   "source": [
    "# Initialise the encoder\n",
    "label_encoder = LabelEncoder()\n",
    "# Encode 'Title'\n",
    "df['Highest Qualification LevelE'] = label_encoder.fit_transform(df['Highest Qualification Level'])"
   ]
  },
  {
   "cell_type": "markdown",
   "metadata": {},
   "source": [
    "Handeling 'Highest Qualification'\n",
    "\n",
    "Decision: \n",
    "- As previous shown 'Highest Qualification' and 'Highest Qualification Level' are highly associated. Thefore, further investgation on information input and accuracy need to be examed."
   ]
  },
  {
   "cell_type": "code",
   "execution_count": 39,
   "metadata": {},
   "outputs": [
    {
     "data": {
      "text/plain": [
       "0                                     Master of Arts\n",
       "1                                  Master of Science\n",
       "2                     Master of Business Administrat\n",
       "3             Ph.D in HRM/ Organizational pyschology\n",
       "4      Ph.D in Economics and International Business \n",
       "                           ...                      \n",
       "273                           Economics and Business\n",
       "274                               Management Science\n",
       "275                                             Ph.D\n",
       "276                                             Ph.D\n",
       "277        Ph.D in Public Policy and Administration \n",
       "Name: Highest Qualification, Length: 278, dtype: object"
      ]
     },
     "execution_count": 39,
     "metadata": {},
     "output_type": "execute_result"
    }
   ],
   "source": [
    "# Disply content\n",
    "df['Highest Qualification']"
   ]
  },
  {
   "cell_type": "code",
   "execution_count": 40,
   "metadata": {},
   "outputs": [
    {
     "data": {
      "text/plain": [
       "0                                                                     Bachelor of Science (Communications), Master of Arts (International Affairs), Master of Business Administrat (Business Administration)\n",
       "1                                                                                             Bachelor of Arts (Finance), Certificate (Management Accounting), Master of Science (Business Info. Technology)\n",
       "2      Certificate (Educating/Teaching Adult), Associate Diploma (Business & Management), Master of Business Administrat (Marketing), Bachelor of Commerce (Human Resources), Certificate (Applied Business)\n",
       "3                                                                                                                                     Bachelor(finance & Mgt), Masters(MBA & Masters in Business Management)\n",
       "4                                                                                                                                       Bachelor( Economics), Masters( Economics and International Business)\n",
       "                                                                                                       ...                                                                                                  \n",
       "273                                                                                                                                         Bachelor( Political Science), Masters( European Union Economics)\n",
       "274                                                                                                                            Bachelor( Foreign Languages), Masters( American Bsuiness Culture & Marketing)\n",
       "275                                                                                                                                     Bachelor( Economics), Masters( Industrial Relations & Personnel Mgt)\n",
       "276                                                                                                                                                    Bachelor(Economics), Masters( Industrial Engineering)\n",
       "277                                                                                                                                         Bachelor( Civil Engineering), Masters(Civil Engineering and MBA)\n",
       "Name: All Qualifications From Profile, Length: 278, dtype: object"
      ]
     },
     "execution_count": 40,
     "metadata": {},
     "output_type": "execute_result"
    }
   ],
   "source": [
    "# Display content\n",
    "pd.set_option('display.max_colwidth', None)\n",
    "df['All Qualifications From Profile']"
   ]
  },
  {
   "cell_type": "markdown",
   "metadata": {},
   "source": [
    "Note: from the comparation of the column 'Highest Qualification' and 'All Qualification From Profile' can see that the information in 'Highest Qualification' are not all accurate.Considering the complexity and also the high association with 'The Highest Qualification Level' decision is to drop this variable."
   ]
  },
  {
   "cell_type": "code",
   "execution_count": 41,
   "metadata": {},
   "outputs": [],
   "source": [
    "# Drop the variable\n",
    "df = df.drop('Highest Qualification', axis=1)"
   ]
  },
  {
   "cell_type": "markdown",
   "metadata": {},
   "source": [
    "Handling 'Major'\n",
    "\n",
    "Decision: \n",
    "- Handle missing date\n",
    "- Keep most relevent majors\n",
    "- LableEncode"
   ]
  },
  {
   "cell_type": "code",
   "execution_count": 42,
   "metadata": {},
   "outputs": [
    {
     "name": "stdout",
     "output_type": "stream",
     "text": [
      "11                                                                                                              NaN\n",
      "71                                                                   Bachelor (Computer Science), Masters (Banking)\n",
      "74                                                                                                              NaN\n",
      "105                                                                                                             NaN\n",
      "122                                                                  Masters (), Bachelor (Business Administration)\n",
      "131                                                                                                             NaN\n",
      "151                                                                                                             NaN\n",
      "157                                                                                                             NaN\n",
      "190                                                    Bachelor (Applied Science), Higher Diploma (Applied Science)\n",
      "238                         Masters (Business Administration), Bachelor (Business), Master of Philosophy (Business)\n",
      "240                                                                                                             NaN\n",
      "249                                                                                                             NaN\n",
      "255                                                  Masters (Economics), Bachelor (Economics), Masters (Economics)\n",
      "257                                                                                                             NaN\n",
      "268                                                                                                             NaN\n",
      "271    Ph.D (Economics), Masters (International Relation), Bachelor (Business Finance), A Level (Science Education)\n",
      "Name: All Qualifications From Profile, dtype: object\n"
     ]
    }
   ],
   "source": [
    "# Filter rows where 'Major' is missing\n",
    "missing_major_df = df[df['Major'].isna()]\n",
    "\n",
    "# Display the 'Reports To' column for the rows with missing 'Campus'\n",
    "missing_major_to_all = missing_major_df['All Qualifications From Profile']\n",
    "\n",
    "# Print the results\n",
    "print(missing_major_to_all)"
   ]
  },
  {
   "cell_type": "code",
   "execution_count": 43,
   "metadata": {},
   "outputs": [],
   "source": [
    "# Sample DataFrame with 'All Qualification From Profile' and 'Major' columns\n",
    "data = {'All Qualifications From Profile': ['Masters (Economics)', 'Masters (Banking)', 'Higher Diploma (Applied Science)', 'Master of Philosophy (Business)', 'Higher Diploma (Applied Science)', 'Masters (Business Administration)', 'Ph.D (Economics)', np.nan],\n",
    "        'Major': [np.nan, np.nan, np.nan, np.nan, np.nan, np.nan, np.nan, np.nan]}\n",
    "\n",
    "# Define a custom function to extract the major from the highest qualification\n",
    "def extract_major(highest_qualification):\n",
    "    if pd.notna(highest_qualification):\n",
    "        # Split the text by ',' to separate qualifications\n",
    "        qualifications = highest_qualification.split(', ')\n",
    "        \n",
    "        # Extract the highest qualification (last element in the list)\n",
    "        highest_qual = qualifications[-1]\n",
    "        \n",
    "        # Extract the major within parentheses\n",
    "        major = highest_qual.split('(')[-1].strip(')')\n",
    "        \n",
    "        return major\n",
    "    else:\n",
    "        return np.nan\n",
    "\n",
    "# Use the custom function to fill missing 'Major' values\n",
    "df['Major'].fillna(df['All Qualifications From Profile'].apply(extract_major), inplace=True)"
   ]
  },
  {
   "cell_type": "code",
   "execution_count": 44,
   "metadata": {},
   "outputs": [],
   "source": [
    "df['Major'].fillna('No Input', inplace=True)"
   ]
  },
  {
   "cell_type": "code",
   "execution_count": 45,
   "metadata": {},
   "outputs": [
    {
     "name": "stdout",
     "output_type": "stream",
     "text": [
      "Business Administration: 46\n",
      "Management: 22\n",
      "Economics: 10\n",
      "No Input: 10\n",
      "Business: 9\n",
      "Marketing: 8\n",
      "Human Resource Management: 8\n",
      "Accounting: 7\n",
      "Finance: 7\n",
      "Commerce: 6\n",
      "International Business: 6\n",
      "Strategic Management: 5\n",
      "Business Management: 5\n",
      "Education: 4\n",
      "Business Adm (Hum Resources): 4\n",
      "Banking: 3\n",
      "Accounting & Finance: 3\n",
      "Information Management: 3\n",
      "Tourism Tourist & Hotel Mgt.: 2\n",
      "Quality Management: 2\n",
      "HRM and Organizational Behaviour : 2\n",
      "Law: 2\n",
      "Management Information System: 2\n",
      "Executive MBA: 2\n",
      "General Management: 2\n",
      "Business Marketing: 2\n",
      "E-Commerce: 2\n",
      "Financial Management: 2\n",
      "International Management: 2\n",
      "International Marketing: 2\n",
      "Public Administration: 1\n",
      "Finance and Islamic Banking & Finance: 1\n",
      "HRM/ Organizational Psychology: 1\n",
      "Economics and International Business : 1\n",
      "Health Administration: 1\n",
      "Business Adm (General): 1\n",
      "Public Admin & Public Policy: 1\n",
      "Commerce & Management Studies: 1\n",
      "General Business Admin: 1\n",
      "E-Business: 1\n",
      "Business Education: 1\n",
      "Criminology & Criminal Justice: 1\n",
      "Economics& Management: 1\n",
      "Psychology: 1\n",
      "Labor Management: 1\n",
      "Leadership & Management: 1\n",
      "eBusiness Policy Development: 1\n",
      "Professional Studies: 1\n",
      "Oper. Resch. & Mgt. Info. Sys.: 1\n",
      "Economics Sciences: 1\n",
      "Commericial & Corporate Law: 1\n",
      "Internal Auditing: 1\n",
      "Business Computing Science: 1\n",
      "HRM and Strategic Mgt: 1\n",
      "Taxation: 1\n",
      "European Business Studies: 1\n",
      "Intl Law and Intl Relations: 1\n",
      "Operation Management: 1\n",
      "Applied Business: 1\n",
      "HRM and tourism: 1\n",
      "Logistics Engineering: 1\n",
      "Adult Education: 1\n",
      "Financial Economics : 1\n",
      "International Banking &Finance: 1\n",
      "Islamic Finance: 1\n",
      "Business Info. Technology: 1\n",
      "Finance/ Economics : 1\n",
      "Human Resource Development : 1\n",
      "Teaching: 1\n",
      "Instructional Technology: 1\n",
      "Forensic Accounting: 1\n",
      "Total Quality Management: 1\n",
      "Economics : 1\n",
      "Accounting & Finance : 1\n",
      "Managerial Economics/ Business Strategy: 1\n",
      "Commerce and Accounting: 1\n",
      "HRM : 1\n",
      "Economic Sociology: 1\n",
      "Marketing Management: 1\n",
      "Strategic Business & IT: 1\n",
      "Social Science: 1\n",
      "International Affairs: 1\n",
      "General Business: 1\n",
      "Organization And Leadership: 1\n",
      "International Administration: 1\n",
      "Applied Science: 1\n",
      "Information Technology: 1\n",
      "Interdisciplinary Studies: 1\n",
      "HRD: 1\n",
      "Hospitality Management: 1\n",
      "Economics Science: 1\n",
      "International Education: 1\n",
      "Applied  Linguistics: 1\n",
      "Organizational Excellence: 1\n",
      "Organisation Mgmt IT Mgmt: 1\n",
      "Islamic Nanking and Finance: 1\n",
      "Science Education: 1\n",
      "Energy Management: 1\n",
      "Operational Research: 1\n",
      "TESOL: 1\n",
      "HRM: 1\n",
      "Integrtd Textile & Apparel Sci: 1\n",
      "Advance Accounting: 1\n",
      "Management Sciences: 1\n",
      "Global Human Resource Mngt: 1\n",
      "Educational Leadership: 1\n",
      "Statistics: 1\n",
      "Innovative Management: 1\n",
      "Occupational Psychology: 1\n",
      "Organization and Management: 1\n",
      "Business Leadership : 1\n",
      "Engineering: 1\n",
      "Advanced Info Systems & Mgt: 1\n",
      "Educational Technology: 1\n",
      "Risk Management & FS Analysis: 1\n",
      "eBusiness Management: 1\n",
      "Agricultural  Economics: 1\n",
      "Management and Financial Mgt: 1\n"
     ]
    }
   ],
   "source": [
    "# Calculate the counts of each major\n",
    "major_counts = df['Major'].value_counts().sort_values(ascending=False)\n",
    "# Print all counts\n",
    "for major, count in major_counts.items():\n",
    "    print(f\"{major}: {count}\")"
   ]
  },
  {
   "cell_type": "code",
   "execution_count": 46,
   "metadata": {},
   "outputs": [],
   "source": [
    "# Set the number of top majors to keep\n",
    "top_n = 15  # You can adjust this based on your preference\n",
    "\n",
    "# Calculate the counts of each major\n",
    "major_counts = df['Major'].value_counts()\n",
    "\n",
    "# Get the top N majors and their counts\n",
    "top_major_counts = major_counts.head(top_n)\n",
    "\n",
    "# Create a list of the top N major names\n",
    "top_majors = top_major_counts.index.tolist()\n",
    "\n",
    "# Replace all other majors with 'Other'\n",
    "df['Major'] = df['Major'].apply(lambda x: x if x in top_majors else 'Other')"
   ]
  },
  {
   "cell_type": "code",
   "execution_count": 47,
   "metadata": {},
   "outputs": [],
   "source": [
    "# Initialise the encoder\n",
    "label_encoder = LabelEncoder()\n",
    "# Encode 'Title'\n",
    "df['MajorE'] = label_encoder.fit_transform(df['Major'])"
   ]
  },
  {
   "cell_type": "markdown",
   "metadata": {},
   "source": [
    "Handling 'University'\n",
    "\n",
    "Decision: \n",
    "- Keep most relevent majors\n",
    "- LableEncode"
   ]
  },
  {
   "cell_type": "code",
   "execution_count": 48,
   "metadata": {},
   "outputs": [
    {
     "name": "stdout",
     "output_type": "stream",
     "text": [
      "University of Wollongong: 8\n",
      "Swiss Management Center: 5\n",
      "University of Leicester: 5\n",
      "University of Madras: 5\n",
      "Harvard University: 4\n",
      "University of Western Sydney: 4\n",
      "Kings College London: 4\n",
      "American University of Beirut: 3\n",
      "Kent University: 3\n",
      "Univ of Southern Queensland: 3\n",
      "The University of Newcastle: 3\n",
      "Birla Institute of Tech & Sc.: 3\n",
      "University of New South Wales: 3\n",
      "University of London: 3\n",
      "University Of Dhaka: 2\n",
      "University of Birmingham: 2\n",
      "Universityof Kerala: 2\n",
      "The University of Hull: 2\n",
      "RMIT University: 2\n",
      "Griffith University: 2\n",
      "SNDT Women's University: 2\n",
      "Capella University: 2\n",
      "University of the Punjab: 2\n",
      "University of Nebraska,USA: 2\n",
      "Amman Arab University, Jordan: 2\n",
      "McGill University: 2\n",
      "University of Ulster: 2\n",
      "University College Dublin: 2\n",
      "University of Northumbria: 2\n",
      "University of Central Florida: 2\n",
      "University of Phoenix: 2\n",
      "Massey University: 2\n",
      "Hult Internationl Business Sch: 2\n",
      "Capella University, USA : 2\n",
      "Heriot-Watt University: 2\n",
      "University of Portsmouth: 2\n",
      "Friedrich-Schiller-Univ Jena: 1\n",
      "University of Ottawa: 1\n",
      "Lyceum Of The Philippines: 1\n",
      "University College London: 1\n",
      "New York University, USA: 1\n",
      "Nagpur University: 1\n",
      "Andhra Univesity: 1\n",
      "University of Ibadan: 1\n",
      "University of KwaZulu-Natal: 1\n",
      "University of Paris Sud 11, France: 1\n",
      "Mohammad Ali Jinnah University: 1\n",
      "Charles Sturt University: 1\n",
      "The University of Bolton: 1\n",
      "Jackson State University, USA: 1\n",
      "University of Delhi: 1\n",
      "Bharathiar University: 1\n",
      "Loyola University of Chicago: 1\n",
      "Brenau University: 1\n",
      "University of Iowa: 1\n",
      "University of South Africa: 1\n",
      "The University of Swansea, UK: 1\n",
      "Univ of the Sunshine Coast: 1\n",
      "The University of Warwick: 1\n",
      "Girne American University, Cyprus : 1\n",
      "Aston University: 1\n",
      "University of East London: 1\n",
      "University Of Calicut: 1\n",
      "De la Salle University: 1\n",
      "University of Westminster: 1\n",
      "University Of Johannesburg: 1\n",
      "Michigan State University, USA: 1\n",
      "The University of  Queensland: 1\n",
      "National University of Singapore: 1\n",
      "University of Keele: 1\n",
      "Nova Southeastern University, USA: 1\n",
      "International Islamic University< Malaysia: 1\n",
      "University of Salento, Italy: 1\n",
      "PaulCezannel University, France: 1\n",
      "University of Paris 1 Pantheon-Sorbonne France: 1\n",
      "Colorada State University, USA: 1\n",
      "Dublin Institute of Technology: 1\n",
      "Syddansk University: 1\n",
      "Concordia University: 1\n",
      "Auburn University: 1\n",
      "University of Mediterranean, France & University Tunis El Manar, Tunisa: 1\n",
      "University of Manchester, UK: 1\n",
      "Massachusetts Institute of Technolgy: 1\n",
      "Alagappa University: 1\n",
      "Univ of Southern Mississippi: 1\n",
      "Institute of Banking Studies & University of Jordan: 1\n",
      "University of Karachi: 1\n",
      "Temple University School of Law, Philadelphia: 1\n",
      "Madurai Kamaraj University: 1\n",
      "Princeton University: 1\n",
      "University of Miami: 1\n",
      "Southern New Hampshire Univ.: 1\n",
      "Unversity College of London: 1\n",
      "Korea Maritime University: 1\n",
      "Lebanese American University: 1\n",
      "University of Canberra: 1\n",
      "University of Glasgow: 1\n",
      "Glasgow Caledonian University: 1\n",
      "Vilnius University: 1\n",
      "St. Joseph's University: 1\n",
      "Milano Graduate School of Mang: 1\n",
      "CapePeninsula UnivofTechnology: 1\n",
      "Univ. of Wales, Cardiff: 1\n",
      "Bowling Green State University: 1\n",
      "Texas A&M University: 1\n",
      " Rutgers University, USA : 1\n",
      "Pennsylvania State University, USA: 1\n",
      "The University of Memphis: 1\n",
      "The University of Wales: 1\n",
      "Int'l Academy ofMgt &Economics: 1\n",
      "University of Illinois: 1\n",
      "Murdoch University: 1\n",
      "Utah State Unviersity: 1\n",
      "The University of Edinburgh: 1\n",
      "University of Tunis, Tunisia: 1\n",
      "Karnataka State Open Univ: 1\n",
      "University of Canterbury: 1\n",
      "University of Pennsylvania: 1\n",
      "University of Strathclyde: 1\n",
      "De Montfort University: 1\n",
      "University of New England: 1\n",
      "University of Houston: 1\n",
      "JRN Rajasthan Vidyapeeth Univ: 1\n",
      "Middlesex University: 1\n",
      "Chifley Business School: 1\n",
      "Thunderbird Sch.ofGlobal Mgmt.: 1\n",
      "University of Western Ontario: 1\n",
      "University of San Paulo, Brazil: 1\n",
      "University of Mauritus, Mauritus: 1\n",
      "University of Montenegro: 1\n",
      "University of Economics, Krakow, Poland: 1\n",
      "South East European University, Macedonia: 1\n",
      "Durham University, UK: 1\n",
      "Devi Ahliya Vishwavidyalaya: 1\n",
      "University of San Francisco: 1\n",
      "School for Intl. Training: 1\n",
      " Universita' degli Studi di Ferrara: 1\n",
      "Technical University of Varna: 1\n",
      "Auckland University of Technol: 1\n",
      "Univ of National And World Eco: 1\n",
      "Arab Academy for Science and Technology and Maritime: 1\n",
      "American Grad Sch of Intl Mgmt: 1\n",
      "SCS Viswa Mahavidyalaya: 1\n",
      "American University-Washington DC, USA and University of Kansas, USA: 1\n",
      "Sharjah Women's College: 1\n",
      "Cambridge University: 1\n",
      "The University of Manchester: 1\n",
      "Zayed University: 1\n",
      "Liverpool University: 1\n",
      "Gauhati University: 1\n",
      "The University of Adelaide: 1\n",
      "University of San Agustin: 1\n",
      "Univ of Louisville: 1\n",
      "California Coast University: 1\n",
      "European University: 1\n",
      "Nova Southern University, USA: 1\n",
      " Universitat Autònoma de Barcelona: 1\n",
      "Northcentral University: 1\n",
      "Roosevelt University: 1\n",
      "Technical University Denmark: 1\n",
      "Amberton University: 1\n",
      "University of Mumbai (Bombay): 1\n",
      "Clemson University: 1\n",
      "Loughborough University: 1\n",
      "Manuel L.Quezon University: 1\n",
      "Stanford University: 1\n",
      "University of Guelph: 1\n",
      "University of Incarnate Word: 1\n",
      "Arab Academy for Sci & Tech: 1\n",
      "Tbilisi State University, Georgia : 1\n",
      "University of Toronto: 1\n",
      "Grenoble Ecole de Management, France: 1\n",
      "Case Western Reserve Univ: 1\n",
      "Walden University, USA: 1\n",
      "The University of Strathclyde: 1\n",
      "NelsonMandela Metropolitan Unv: 1\n",
      "Macquarie University: 1\n",
      "The University of Liverpool: 1\n",
      "Argosy University, USA: 1\n",
      "Batangas State University: 1\n",
      "University of Huddersfield: 1\n",
      "Oxford University: 1\n",
      "Tilburg University: 1\n",
      "The Univ. of Western Australia: 1\n",
      "JJ Tibrewala University: 1\n",
      "Dubai Women's College: 1\n",
      "Troy University: 1\n",
      "University of Alberta: 1\n",
      "Higher Colleges of Technolgy: 1\n",
      "Univ. of Calif.- Los Angeles: 1\n",
      "Unv Negros Occidental-Recoleto: 1\n",
      "Northcentral University, USA: 1\n",
      "University of Pretoria, South Africa: 1\n",
      "York University: 1\n",
      "Banasthali Vidyapith: 1\n",
      "Universitidad Azteca, Mexico: 1\n",
      "Cardiff Metropolian University, UK: 1\n",
      "Alexandria University: 1\n",
      "The Waikato University: 1\n",
      "Open University: 1\n",
      "Yarmouk University: 1\n",
      "University of Saskatchewan: 1\n",
      "The University of Kent: 1\n",
      "University of Derby: 1\n",
      "Coventry University: 1\n",
      " Maastricht School of Management: 1\n",
      "Royal Melbourne Inst. of Tech: 1\n",
      "London South Bank University: 1\n",
      "Eötvös Loránd University: 1\n",
      "Philippine Christian University, UAE: 1\n",
      "Panteion University, Greece: 1\n",
      "University of Santo Tomas: 1\n",
      "University of Nice, France: 1\n",
      "Virginia Commonwealth University, USA : 1\n"
     ]
    }
   ],
   "source": [
    "# Calculate the counts of each university\n",
    "uni_counts = df['University'].value_counts().sort_values(ascending=False)\n",
    "# Print all counts\n",
    "for uni, count in uni_counts.items():\n",
    "    print(f\"{uni}: {count}\")"
   ]
  },
  {
   "cell_type": "code",
   "execution_count": 49,
   "metadata": {},
   "outputs": [],
   "source": [
    "# Set the number of top universities to keep\n",
    "top_n = 20  \n",
    "\n",
    "# Calculate the counts of each university\n",
    "Uni_counts = df['University'].value_counts()\n",
    "\n",
    "# Get the top N universities and their counts\n",
    "top_uni_counts = Uni_counts.head(top_n)\n",
    "\n",
    "# Create a list of the top N universities names\n",
    "top_uni = top_uni_counts.index.tolist()\n",
    "\n",
    "# Replace all other universities with 'Other'\n",
    "df['University'] = df['University'].apply(lambda x: x if x in top_uni else 'Other')"
   ]
  },
  {
   "cell_type": "code",
   "execution_count": 50,
   "metadata": {},
   "outputs": [],
   "source": [
    "# Initialise the encoder\n",
    "label_encoder = LabelEncoder()\n",
    "# Encode 'UniversityE'\n",
    "df['UniversityE'] = label_encoder.fit_transform(df['University'])"
   ]
  },
  {
   "cell_type": "markdown",
   "metadata": {},
   "source": [
    "Handling 'All Qualifications From Profile'\n",
    "\n",
    "Decision: \n",
    "- Feature engineering, considering the complexity of this variable, to extract as much as information as possible. By creating 'Double Degrees' to indicate douple masters degrees, 'Number of Qualifications' to provide an overview of the qualifications"
   ]
  },
  {
   "cell_type": "code",
   "execution_count": 51,
   "metadata": {},
   "outputs": [],
   "source": [
    "\n",
    "# Create double degrees variable\n",
    "def has_double_degrees(qualification):\n",
    "    if not isinstance(qualification, (list, str)):\n",
    "        return False\n",
    "    return qualification.lower().count(\"Masters\") >= 2\n",
    "\n",
    "df['Double Degrees'] = df['All Qualifications From Profile'].apply(has_double_degrees)\n",
    "\n",
    "# Initialise the encoder\n",
    "label_encoder = LabelEncoder()\n",
    "# Encode 'Title'\n",
    "df['Double DegreesE'] = label_encoder.fit_transform(df['Double Degrees'])"
   ]
  },
  {
   "cell_type": "code",
   "execution_count": 52,
   "metadata": {},
   "outputs": [],
   "source": [
    "# Define a custom function to count the number of qualifications\n",
    "def count_qualifications(qualification):\n",
    "    if pd.notna(qualification):\n",
    "        # Ensure the qualification is a string before applying .lower()\n",
    "        if isinstance(qualification, str):\n",
    "            # Split the text by ',' to separate qualifications\n",
    "            qualifications_list = qualification.split(', ')\n",
    "            # Count the number of qualifications\n",
    "            return len(qualifications_list)\n",
    "    else:\n",
    "        return 0\n",
    "\n",
    "# Apply the custom function to create the 'Number of Qualifications' column\n",
    "df['Number of Qualifications'] = df['All Qualifications From Profile'].apply(count_qualifications)\n",
    "# Convert the column to integers\n",
    "df['Number of Qualifications'] = df['Number of Qualifications'].astype(int)\n"
   ]
  },
  {
   "cell_type": "markdown",
   "metadata": {},
   "source": [
    "Handling 'Courses Taught- Term 201510'\n",
    "\n",
    "Decision: \n",
    "- Feature engineering, considering the complexity of this variable, to extract as much as information as possible. By creating 'No Of Courses Taught' to indicate to provide an overview of the taught course."
   ]
  },
  {
   "cell_type": "code",
   "execution_count": 53,
   "metadata": {},
   "outputs": [],
   "source": [
    "# Define a custom function to count the number of courses taught\n",
    "def count_courses_taught(courses):\n",
    "    if pd.notna(courses):\n",
    "        # Split the text by the separator to separate courses\n",
    "        courses_list = courses.split('\\n')\n",
    "        # Count the number of courses\n",
    "        return len(courses_list)\n",
    "    else:\n",
    "        # Return 0 for missing values\n",
    "        return 0\n",
    "\n",
    "# Apply the custom function to create the 'No Of Courses Taught' column\n",
    "df['No Of Courses Taught'] = df['Courses Taught- Term 201510'].apply(count_courses_taught)"
   ]
  },
  {
   "cell_type": "markdown",
   "metadata": {},
   "source": [
    "Handling 'Major Teaching Field'\n",
    "\n",
    "Decision: \n",
    "- As shown previously 'Major' and 'Major Teaching Field' are highly associated. Considering the complexity, so that to drop this variable."
   ]
  },
  {
   "cell_type": "code",
   "execution_count": 54,
   "metadata": {},
   "outputs": [],
   "source": [
    "df = df.drop('Major Teaching Field', axis=1)"
   ]
  },
  {
   "cell_type": "markdown",
   "metadata": {},
   "source": [
    "Handling 'Other Professional Certifications'\n",
    "\n",
    "Decision: \n",
    "- Given mixed input and many uique values, to extract two important information: 'Year of Professional Experience' and 'Year of Teaching Experience'."
   ]
  },
  {
   "cell_type": "code",
   "execution_count": 55,
   "metadata": {},
   "outputs": [],
   "source": [
    "import re\n",
    "df['Other Professional Certifications'] = df['Other Professional Certifications'].apply(lambda x: re.sub(r'\\+', '',str(x)))"
   ]
  },
  {
   "cell_type": "code",
   "execution_count": 56,
   "metadata": {},
   "outputs": [],
   "source": [
    "# Define a function to extract years of professional experience\n",
    "def extract_professional_experience(text):\n",
    "    if pd.notna(text):\n",
    "        # Use regular expressions to find years of experience\n",
    "        professional_experience1 = re.findall(r'(\\d+)\\s*(?:years?|yrs?)\\s*(?:professional|work|industry|business owner|SME|management|corporate|consulting|training)', text, re.IGNORECASE)\n",
    "        professional_experience2 = re.findall(r'(?:professional|management) experience:\\s*(\\d+)', text, re.IGNORECASE)\n",
    "\n",
    "        # Initialize variables to store extracted years\n",
    "        professional_years = 0\n",
    "    \n",
    "        # Sum the extracted years\n",
    "        if professional_experience1:\n",
    "            professional_years = sum(map(int, professional_experience1))\n",
    "        elif professional_experience2:\n",
    "            professional_years = sum(map(int, professional_experience2))\n",
    "            \n",
    "        return professional_years\n",
    "    else:\n",
    "        return 0\n",
    "\n",
    "# Apply the custom function to create new columns for professional years\n",
    "df['Professional Experience Years'] = df['Other Professional Certifications'].apply(extract_professional_experience).apply(pd.Series)"
   ]
  },
  {
   "cell_type": "code",
   "execution_count": 57,
   "metadata": {},
   "outputs": [],
   "source": [
    "# Define a function to extract years of teaching experience\n",
    "def extract_teaching_experience(text):\n",
    "    if pd.notna(text):\n",
    "        # Use regular expressions to find years of experience\n",
    "        teaching_experience1 = re.findall(r'(\\d+)\\s*(?:years?|yrs?)\\s*teaching', text, re.IGNORECASE)\n",
    "        teaching_experience2 = re.findall(r'years of teaching experience:\\s*(\\d+)', text, re.IGNORECASE)\n",
    "        \n",
    "        # Initialize variables to store extracted years\n",
    "        teaching_years = 0\n",
    "\n",
    "        # Sum the extracted years\n",
    "        if teaching_experience1:\n",
    "            teaching_years = sum(map(int, teaching_experience1))\n",
    "        elif teaching_experience2:\n",
    "            teaching_years = sum(map(int, teaching_experience2))\n",
    "            \n",
    "        return teaching_years\n",
    "    else:\n",
    "        return 0\n",
    "\n",
    "# Apply the custom function to create new columns for teaching years\n",
    "df['Teaching Experience Years'] = df['Other Professional Certifications'].apply(extract_teaching_experience).apply(pd.Series)"
   ]
  },
  {
   "cell_type": "markdown",
   "metadata": {},
   "source": [
    "Handling 'Criteria'\n",
    "\n",
    "Decision: \n",
    "- LableEncode, this could be the possible target variable if for supervised learning.\n",
    "* Note: some criterias can be further grouped based on their instance values, but it is depending on the ML model to be choosen"
   ]
  },
  {
   "cell_type": "code",
   "execution_count": 58,
   "metadata": {},
   "outputs": [],
   "source": [
    "# Initialise the encoder\n",
    "label_encoder = LabelEncoder()\n",
    "# Encode 'Title'\n",
    "df['CriteriaE'] = label_encoder.fit_transform(df['Criteria'])"
   ]
  },
  {
   "cell_type": "code",
   "execution_count": 59,
   "metadata": {},
   "outputs": [
    {
     "name": "stdout",
     "output_type": "stream",
     "text": [
      "4: 225\n",
      "0: 27\n",
      "5: 15\n",
      "6: 4\n",
      "1: 3\n",
      "7: 2\n",
      "3: 1\n",
      "2: 1\n"
     ]
    }
   ],
   "source": [
    "# Calculate the counts of each major\n",
    "criteria_counts = df['CriteriaE'].value_counts().sort_values(ascending=False)\n",
    "# Print all counts\n",
    "for criteria, count in criteria_counts.items():\n",
    "    print(f\"{criteria}: {count}\")"
   ]
  },
  {
   "cell_type": "markdown",
   "metadata": {},
   "source": [
    "<div style=\"border-top: 5px solid #E6E6FA; animation: sparkling 2s linear infinite;\"></div>\n",
    "\n",
    "<style>\n",
    "@keyframes sparkling {\n",
    "  0% { background-position: 0 0; }\n",
    "  100% { background-position: 100% 0; }\n",
    "}\n",
    "</style>"
   ]
  },
  {
   "cell_type": "markdown",
   "metadata": {},
   "source": [
    "#### **5.1 Save versions of data**\n",
    "- Save intermediate dataset\n",
    "- Save final dataset"
   ]
  },
  {
   "cell_type": "markdown",
   "metadata": {},
   "source": [
    "Save intermediate dataset \n",
    "- As record for later reference and validation."
   ]
  },
  {
   "cell_type": "code",
   "execution_count": 60,
   "metadata": {},
   "outputs": [],
   "source": [
    "# Save intermediate dataset for later reference and validation purpose.\n",
    "df.to_csv('intermediate_faculty_list_hotone.csv', index=False)"
   ]
  },
  {
   "cell_type": "markdown",
   "metadata": {},
   "source": [
    "Save final dataset \n",
    "- Delete the none useful columns\n",
    "- Decision on veraible 'Id'\n",
    "- Save the final version as clean dataset and ready for training processing\n"
   ]
  },
  {
   "cell_type": "code",
   "execution_count": 61,
   "metadata": {},
   "outputs": [],
   "source": [
    "# Delete all redundent and unuseful columns.\n",
    "columns_to_drop = ['Campus', 'Faculty Type', 'Title', 'Join Date', 'Last Working Day', 'Reports To', 'Highest Qualification Level', 'Major', 'University', 'All Qualifications From Profile', 'Courses Taught- Term 201510', 'Other Professional Certifications', 'Criteria', 'Double Degrees']\n",
    "existing_columns = df.columns\n",
    "columns_to_drop = [col for col in columns_to_drop if col in existing_columns]\n",
    "\n",
    "# Drop the specified columns\n",
    "df.drop(columns=columns_to_drop, inplace=True)"
   ]
  },
  {
   "cell_type": "code",
   "execution_count": 62,
   "metadata": {},
   "outputs": [
    {
     "name": "stdout",
     "output_type": "stream",
     "text": [
      "3      2016\n",
      "4      2016\n",
      "48     2016\n",
      "49     2016\n",
      "50     2016\n",
      "51     2016\n",
      "52     2016\n",
      "53     2016\n",
      "54     2016\n",
      "55     2016\n",
      "56     2016\n",
      "57     2016\n",
      "99     2016\n",
      "100    2016\n",
      "101    2016\n",
      "102    2016\n",
      "103    2016\n",
      "104    2016\n",
      "129    2016\n",
      "130    2016\n",
      "176    2016\n",
      "197    2016\n",
      "198    2016\n",
      "206    2016\n",
      "207    2016\n",
      "222    2016\n",
      "223    2016\n",
      "224    2016\n",
      "225    2016\n",
      "226    2016\n",
      "227    2016\n",
      "243    2016\n",
      "244    2016\n",
      "245    2016\n",
      "272    2016\n",
      "273    2016\n",
      "274    2016\n",
      "275    2016\n",
      "276    2016\n",
      "277    2016\n",
      "Name: Join Year, dtype: int32\n"
     ]
    }
   ],
   "source": [
    "# Filter rows where 'Id' is equal to 0\n",
    "id_zero_df = df[df['Id'] == 0]\n",
    "\n",
    "# Display the 'Join Year' column for the rows where 'Id' is 0\n",
    "join_year_for_id_zero = id_zero_df['Join Year']\n",
    "\n",
    "# Print the results\n",
    "print(join_year_for_id_zero)"
   ]
  },
  {
   "cell_type": "markdown",
   "metadata": {},
   "source": [
    "Note: the entire Ids for the year of 2016 are missing and have value '0'. There is hardly any paterns to impute the missing values. \n",
    "Decision: Drop Id.As this information is kept in intermediate dataset."
   ]
  },
  {
   "cell_type": "code",
   "execution_count": 63,
   "metadata": {},
   "outputs": [],
   "source": [
    "df = df.drop('Id', axis=1)"
   ]
  },
  {
   "cell_type": "code",
   "execution_count": 64,
   "metadata": {},
   "outputs": [],
   "source": [
    "df.to_csv('clean_faculty_list_hotone.csv', index=False)"
   ]
  },
  {
   "cell_type": "markdown",
   "metadata": {},
   "source": [
    "<div style=\"border-top: 3px solid #800080; animation: sparkling 2s linear infinite;\"></div>\n",
    "\n",
    "<style>\n",
    "@keyframes sparkling {\n",
    "  0% { background-position: 0 0; }\n",
    "  100% { background-position: 100% 0; }\n",
    "}\n",
    "</style>"
   ]
  },
  {
   "cell_type": "markdown",
   "metadata": {},
   "source": [
    "### **6 Validation and testing**"
   ]
  }
 ],
 "metadata": {
  "kernelspec": {
   "display_name": "Machine_learning",
   "language": "python",
   "name": "python3"
  },
  "language_info": {
   "codemirror_mode": {
    "name": "ipython",
    "version": 3
   },
   "file_extension": ".py",
   "mimetype": "text/x-python",
   "name": "python",
   "nbconvert_exporter": "python",
   "pygments_lexer": "ipython3",
   "version": "3.11.4"
  },
  "orig_nbformat": 4
 },
 "nbformat": 4,
 "nbformat_minor": 2
}
