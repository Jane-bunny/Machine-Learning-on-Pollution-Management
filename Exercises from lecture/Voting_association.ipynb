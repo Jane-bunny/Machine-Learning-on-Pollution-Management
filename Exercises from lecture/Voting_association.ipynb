{
 "cells": [
  {
   "cell_type": "markdown",
   "metadata": {},
   "source": [
    "Association rule exercise"
   ]
  },
  {
   "cell_type": "code",
   "execution_count": 112,
   "metadata": {},
   "outputs": [],
   "source": [
    "import pandas as pd\n",
    "from mlxtend.frequent_patterns import apriori\n",
    "from mlxtend.frequent_patterns import association_rules\n",
    "import matplotlib.pyplot as plt\n",
    "from imblearn.over_sampling import SMOTEN\n",
    "import numpy as np"
   ]
  },
  {
   "cell_type": "code",
   "execution_count": 113,
   "metadata": {},
   "outputs": [],
   "source": [
    "df = pd.read_csv('votes.csv')\n",
    "df = df.drop('Unnamed: 0', axis=1)\n",
    "column_names=['Class Name', 'handicapped-infants', 'water-project-cost-sharing', 'adoption-of-the-budget-resolution', 'physician-fee-freeze', 'el-salvador-aid', 'religious-groups-in-schools', 'anti-satellite-test-ban', 'aid-to-nicaraguan-contras', 'mx-missile', 'immigration', 'synfuels-corporation-cutback', 'education-spending', 'superfund-right-to-sue', 'crime', 'duty-free-exports', 'export-administration-act-south-africa']"
   ]
  },
  {
   "cell_type": "code",
   "execution_count": 114,
   "metadata": {},
   "outputs": [],
   "source": [
    "df.columns = column_names"
   ]
  },
  {
   "cell_type": "code",
   "execution_count": 115,
   "metadata": {},
   "outputs": [],
   "source": [
    "# Two ways to replace values\n",
    "#df = df.replace({'y': 1, 'n': 0, '?': 0})\n",
    "\n",
    "# or: \n",
    "mapping = {'y': 1, 'n': 0, '?': 0}\n",
    "\n",
    "df = df.applymap(lambda x: mapping.get(x, x))"
   ]
  },
  {
   "cell_type": "code",
   "execution_count": 116,
   "metadata": {},
   "outputs": [],
   "source": [
    "party_votes = df.groupby('Class Name').sum()\n",
    "party_votes = party_votes.reset_index()"
   ]
  },
  {
   "cell_type": "code",
   "execution_count": 117,
   "metadata": {},
   "outputs": [
    {
     "data": {
      "text/html": [
       "<div>\n",
       "<style scoped>\n",
       "    .dataframe tbody tr th:only-of-type {\n",
       "        vertical-align: middle;\n",
       "    }\n",
       "\n",
       "    .dataframe tbody tr th {\n",
       "        vertical-align: top;\n",
       "    }\n",
       "\n",
       "    .dataframe thead th {\n",
       "        text-align: right;\n",
       "    }\n",
       "</style>\n",
       "<table border=\"1\" class=\"dataframe\">\n",
       "  <thead>\n",
       "    <tr style=\"text-align: right;\">\n",
       "      <th></th>\n",
       "      <th>Class Name</th>\n",
       "      <th>handicapped-infants</th>\n",
       "      <th>water-project-cost-sharing</th>\n",
       "      <th>adoption-of-the-budget-resolution</th>\n",
       "      <th>physician-fee-freeze</th>\n",
       "      <th>el-salvador-aid</th>\n",
       "      <th>religious-groups-in-schools</th>\n",
       "      <th>anti-satellite-test-ban</th>\n",
       "      <th>aid-to-nicaraguan-contras</th>\n",
       "      <th>mx-missile</th>\n",
       "      <th>immigration</th>\n",
       "      <th>synfuels-corporation-cutback</th>\n",
       "      <th>education-spending</th>\n",
       "      <th>superfund-right-to-sue</th>\n",
       "      <th>crime</th>\n",
       "      <th>duty-free-exports</th>\n",
       "      <th>export-administration-act-south-africa</th>\n",
       "    </tr>\n",
       "  </thead>\n",
       "  <tbody>\n",
       "    <tr>\n",
       "      <th>0</th>\n",
       "      <td>democrat</td>\n",
       "      <td>156</td>\n",
       "      <td>120</td>\n",
       "      <td>231</td>\n",
       "      <td>14</td>\n",
       "      <td>55</td>\n",
       "      <td>123</td>\n",
       "      <td>200</td>\n",
       "      <td>218</td>\n",
       "      <td>188</td>\n",
       "      <td>124</td>\n",
       "      <td>129</td>\n",
       "      <td>36</td>\n",
       "      <td>73</td>\n",
       "      <td>90</td>\n",
       "      <td>160</td>\n",
       "      <td>173</td>\n",
       "    </tr>\n",
       "    <tr>\n",
       "      <th>1</th>\n",
       "      <td>republican</td>\n",
       "      <td>31</td>\n",
       "      <td>74</td>\n",
       "      <td>22</td>\n",
       "      <td>162</td>\n",
       "      <td>156</td>\n",
       "      <td>148</td>\n",
       "      <td>39</td>\n",
       "      <td>24</td>\n",
       "      <td>19</td>\n",
       "      <td>91</td>\n",
       "      <td>21</td>\n",
       "      <td>134</td>\n",
       "      <td>135</td>\n",
       "      <td>157</td>\n",
       "      <td>14</td>\n",
       "      <td>95</td>\n",
       "    </tr>\n",
       "  </tbody>\n",
       "</table>\n",
       "</div>"
      ],
      "text/plain": [
       "   Class Name  handicapped-infants  water-project-cost-sharing  \\\n",
       "0    democrat                  156                         120   \n",
       "1  republican                   31                          74   \n",
       "\n",
       "   adoption-of-the-budget-resolution  physician-fee-freeze  el-salvador-aid  \\\n",
       "0                                231                    14               55   \n",
       "1                                 22                   162              156   \n",
       "\n",
       "   religious-groups-in-schools  anti-satellite-test-ban  \\\n",
       "0                          123                      200   \n",
       "1                          148                       39   \n",
       "\n",
       "   aid-to-nicaraguan-contras  mx-missile  immigration  \\\n",
       "0                        218         188          124   \n",
       "1                         24          19           91   \n",
       "\n",
       "   synfuels-corporation-cutback  education-spending  superfund-right-to-sue  \\\n",
       "0                           129                  36                      73   \n",
       "1                            21                 134                     135   \n",
       "\n",
       "   crime  duty-free-exports  export-administration-act-south-africa  \n",
       "0     90                160                                     173  \n",
       "1    157                 14                                      95  "
      ]
     },
     "execution_count": 117,
     "metadata": {},
     "output_type": "execute_result"
    }
   ],
   "source": [
    "party_votes"
   ]
  },
  {
   "cell_type": "code",
   "execution_count": 118,
   "metadata": {},
   "outputs": [
    {
     "data": {
      "image/png": "[encoded data removed]",
      "text/plain": [
       "<Figure size 1000x600 with 1 Axes>"
      ]
     },
     "metadata": {},
     "output_type": "display_data"
    }
   ],
   "source": [
    "\n",
    "# Create a bar chart\n",
    "ax = party_votes.plot(kind='bar', stacked=True, figsize=(10, 6))\n",
    "#plt.xlabel('Party')\n",
    "plt.ylabel('Vote Frequency')\n",
    "plt.title('Voting Frequencies by two parties for 17 Acts')\n",
    "plt.legend(title='Act', bbox_to_anchor=(1.05, 1), loc='upper left')\n",
    "plt.xticks(range(len(party_votes)), party_votes['Class Name'])\n",
    "plt.xticks(rotation=45)\n",
    "\n",
    "# Show the plot\n",
    "plt.show()"
   ]
  },
  {
   "cell_type": "code",
   "execution_count": 119,
   "metadata": {},
   "outputs": [],
   "source": [
    "#def encode_unites(x):\n",
    "   # if x <= 0:\n",
    "        #return 0\n",
    "    #if x >= 1:\n",
    "        #return 1"
   ]
  },
  {
   "cell_type": "code",
   "execution_count": 120,
   "metadata": {},
   "outputs": [],
   "source": [
    "#df.iloc[:, 1:17] = df.iloc[:, 1:17].applymap(encode_unites)"
   ]
  },
  {
   "cell_type": "code",
   "execution_count": 121,
   "metadata": {},
   "outputs": [],
   "source": [
    "voting_df_rep = df[df['Class Name'] == 'republican']\n",
    "voting_df_dem = df[df['Class Name'] == 'democrat']"
   ]
  },
  {
   "cell_type": "code",
   "execution_count": 122,
   "metadata": {},
   "outputs": [],
   "source": [
    "voting_set_rep = voting_df_rep.iloc[:, 1:18].copy()\n",
    "voting_set_dem = voting_df_dem.iloc[:, 1:18].copy()"
   ]
  },
  {
   "cell_type": "code",
   "execution_count": 123,
   "metadata": {},
   "outputs": [],
   "source": [
    "total_votes = len(df)\n",
    "total_democrat_votes = len(voting_set_dem)\n",
    "total_republican_votes = len(voting_set_rep)\n",
    "\n",
    "# Define the minimum support thresholds for each class\n",
    "min_support_dem = (0.60 * total_democrat_votes)/total_votes\n",
    "min_support_rep =( 0.40 * total_republican_votes)/total_votes"
   ]
  },
  {
   "cell_type": "code",
   "execution_count": 124,
   "metadata": {},
   "outputs": [
    {
     "data": {
      "text/plain": [
       "0.15391705069124423"
      ]
     },
     "execution_count": 124,
     "metadata": {},
     "output_type": "execute_result"
    }
   ],
   "source": [
    "min_support_rep"
   ]
  },
  {
   "cell_type": "code",
   "execution_count": 125,
   "metadata": {},
   "outputs": [
    {
     "name": "stderr",
     "output_type": "stream",
     "text": [
      "c:\\Users\\stoer\\anaconda3\\envs\\Machine_learning\\Lib\\site-packages\\mlxtend\\frequent_patterns\\fpcommon.py:110: DeprecationWarning: DataFrames with non-bool types result in worse computationalperformance and their support might be discontinued in the future.Please use a DataFrame with bool type\n",
      "  warnings.warn(\n"
     ]
    }
   ],
   "source": [
    "frequent_itemsets_rep= apriori(voting_set_rep, min_support=min_support_rep, use_colnames=True)"
   ]
  },
  {
   "cell_type": "code",
   "execution_count": 126,
   "metadata": {},
   "outputs": [],
   "source": [
    "rules_rep = association_rules(frequent_itemsets_rep, metric=\"lift\", min_threshold=1) "
   ]
  },
  {
   "cell_type": "code",
   "execution_count": 127,
   "metadata": {},
   "outputs": [
    {
     "data": {
      "text/html": [
       "<div>\n",
       "<style scoped>\n",
       "    .dataframe tbody tr th:only-of-type {\n",
       "        vertical-align: middle;\n",
       "    }\n",
       "\n",
       "    .dataframe tbody tr th {\n",
       "        vertical-align: top;\n",
       "    }\n",
       "\n",
       "    .dataframe thead th {\n",
       "        text-align: right;\n",
       "    }\n",
       "</style>\n",
       "<table border=\"1\" class=\"dataframe\">\n",
       "  <thead>\n",
       "    <tr style=\"text-align: right;\">\n",
       "      <th></th>\n",
       "      <th>antecedents</th>\n",
       "      <th>consequents</th>\n",
       "      <th>antecedent support</th>\n",
       "      <th>consequent support</th>\n",
       "      <th>support</th>\n",
       "      <th>confidence</th>\n",
       "      <th>lift</th>\n",
       "      <th>leverage</th>\n",
       "      <th>conviction</th>\n",
       "      <th>zhangs_metric</th>\n",
       "    </tr>\n",
       "  </thead>\n",
       "  <tbody>\n",
       "    <tr>\n",
       "      <th>386</th>\n",
       "      <td>(crime, anti-satellite-test-ban)</td>\n",
       "      <td>(export-administration-act-south-africa)</td>\n",
       "      <td>0.227545</td>\n",
       "      <td>0.568862</td>\n",
       "      <td>0.209581</td>\n",
       "      <td>0.921053</td>\n",
       "      <td>1.619114</td>\n",
       "      <td>0.080139</td>\n",
       "      <td>5.461078</td>\n",
       "      <td>0.495017</td>\n",
       "    </tr>\n",
       "    <tr>\n",
       "      <th>1166</th>\n",
       "      <td>(physician-fee-freeze, crime, anti-satellite-t...</td>\n",
       "      <td>(export-administration-act-south-africa)</td>\n",
       "      <td>0.215569</td>\n",
       "      <td>0.568862</td>\n",
       "      <td>0.197605</td>\n",
       "      <td>0.916667</td>\n",
       "      <td>1.611404</td>\n",
       "      <td>0.074976</td>\n",
       "      <td>5.173653</td>\n",
       "      <td>0.483692</td>\n",
       "    </tr>\n",
       "    <tr>\n",
       "      <th>1394</th>\n",
       "      <td>(el-salvador-aid, crime, anti-satellite-test-ban)</td>\n",
       "      <td>(export-administration-act-south-africa)</td>\n",
       "      <td>0.191617</td>\n",
       "      <td>0.568862</td>\n",
       "      <td>0.173653</td>\n",
       "      <td>0.906250</td>\n",
       "      <td>1.593092</td>\n",
       "      <td>0.064649</td>\n",
       "      <td>4.598802</td>\n",
       "      <td>0.460536</td>\n",
       "    </tr>\n",
       "    <tr>\n",
       "      <th>2975</th>\n",
       "      <td>(el-salvador-aid, physician-fee-freeze, crime,...</td>\n",
       "      <td>(export-administration-act-south-africa)</td>\n",
       "      <td>0.185629</td>\n",
       "      <td>0.568862</td>\n",
       "      <td>0.167665</td>\n",
       "      <td>0.903226</td>\n",
       "      <td>1.587776</td>\n",
       "      <td>0.062067</td>\n",
       "      <td>4.455090</td>\n",
       "      <td>0.454569</td>\n",
       "    </tr>\n",
       "  </tbody>\n",
       "</table>\n",
       "</div>"
      ],
      "text/plain": [
       "                                            antecedents  \\\n",
       "386                    (crime, anti-satellite-test-ban)   \n",
       "1166  (physician-fee-freeze, crime, anti-satellite-t...   \n",
       "1394  (el-salvador-aid, crime, anti-satellite-test-ban)   \n",
       "2975  (el-salvador-aid, physician-fee-freeze, crime,...   \n",
       "\n",
       "                                   consequents  antecedent support  \\\n",
       "386   (export-administration-act-south-africa)            0.227545   \n",
       "1166  (export-administration-act-south-africa)            0.215569   \n",
       "1394  (export-administration-act-south-africa)            0.191617   \n",
       "2975  (export-administration-act-south-africa)            0.185629   \n",
       "\n",
       "      consequent support   support  confidence      lift  leverage  \\\n",
       "386             0.568862  0.209581    0.921053  1.619114  0.080139   \n",
       "1166            0.568862  0.197605    0.916667  1.611404  0.074976   \n",
       "1394            0.568862  0.173653    0.906250  1.593092  0.064649   \n",
       "2975            0.568862  0.167665    0.903226  1.587776  0.062067   \n",
       "\n",
       "      conviction  zhangs_metric  \n",
       "386     5.461078       0.495017  \n",
       "1166    5.173653       0.483692  \n",
       "1394    4.598802       0.460536  \n",
       "2975    4.455090       0.454569  "
      ]
     },
     "execution_count": 127,
     "metadata": {},
     "output_type": "execute_result"
    }
   ],
   "source": [
    "rules_rep[ (rules_rep['lift'] >= 1.5) & (rules_rep['confidence'] >= 0.90) ]"
   ]
  },
  {
   "cell_type": "code",
   "execution_count": 128,
   "metadata": {},
   "outputs": [
    {
     "name": "stderr",
     "output_type": "stream",
     "text": [
      "c:\\Users\\stoer\\anaconda3\\envs\\Machine_learning\\Lib\\site-packages\\mlxtend\\frequent_patterns\\fpcommon.py:110: DeprecationWarning: DataFrames with non-bool types result in worse computationalperformance and their support might be discontinued in the future.Please use a DataFrame with bool type\n",
      "  warnings.warn(\n"
     ]
    }
   ],
   "source": [
    "frequent_itemsets_dem= apriori(voting_set_dem, min_support=min_support_dem, use_colnames=True)"
   ]
  },
  {
   "cell_type": "code",
   "execution_count": 129,
   "metadata": {},
   "outputs": [],
   "source": [
    "rules_dem = association_rules(frequent_itemsets_dem, metric=\"lift\", min_threshold=1) "
   ]
  },
  {
   "cell_type": "code",
   "execution_count": 146,
   "metadata": {},
   "outputs": [
    {
     "data": {
      "text/html": [
       "<div>\n",
       "<style scoped>\n",
       "    .dataframe tbody tr th:only-of-type {\n",
       "        vertical-align: middle;\n",
       "    }\n",
       "\n",
       "    .dataframe tbody tr th {\n",
       "        vertical-align: top;\n",
       "    }\n",
       "\n",
       "    .dataframe thead th {\n",
       "        text-align: right;\n",
       "    }\n",
       "</style>\n",
       "<table border=\"1\" class=\"dataframe\">\n",
       "  <thead>\n",
       "    <tr style=\"text-align: right;\">\n",
       "      <th></th>\n",
       "      <th>antecedents</th>\n",
       "      <th>consequents</th>\n",
       "      <th>antecedent support</th>\n",
       "      <th>consequent support</th>\n",
       "      <th>support</th>\n",
       "      <th>confidence</th>\n",
       "      <th>lift</th>\n",
       "      <th>leverage</th>\n",
       "      <th>conviction</th>\n",
       "      <th>zhangs_metric</th>\n",
       "    </tr>\n",
       "  </thead>\n",
       "  <tbody>\n",
       "    <tr>\n",
       "      <th>375</th>\n",
       "      <td>(mx-missile, adoption-of-the-budget-resolution...</td>\n",
       "      <td>(anti-satellite-test-ban, aid-to-nicaraguan-co...</td>\n",
       "      <td>0.415730</td>\n",
       "      <td>0.707865</td>\n",
       "      <td>0.378277</td>\n",
       "      <td>0.909910</td>\n",
       "      <td>1.285428</td>\n",
       "      <td>0.083996</td>\n",
       "      <td>3.242697</td>\n",
       "      <td>0.380046</td>\n",
       "    </tr>\n",
       "    <tr>\n",
       "      <th>381</th>\n",
       "      <td>(anti-satellite-test-ban, mx-missile, handicap...</td>\n",
       "      <td>(adoption-of-the-budget-resolution, aid-to-nic...</td>\n",
       "      <td>0.397004</td>\n",
       "      <td>0.760300</td>\n",
       "      <td>0.378277</td>\n",
       "      <td>0.952830</td>\n",
       "      <td>1.253230</td>\n",
       "      <td>0.076435</td>\n",
       "      <td>5.081648</td>\n",
       "      <td>0.335096</td>\n",
       "    </tr>\n",
       "    <tr>\n",
       "      <th>382</th>\n",
       "      <td>(aid-to-nicaraguan-contras, mx-missile, handic...</td>\n",
       "      <td>(anti-satellite-test-ban, adoption-of-the-budg...</td>\n",
       "      <td>0.419476</td>\n",
       "      <td>0.689139</td>\n",
       "      <td>0.378277</td>\n",
       "      <td>0.901786</td>\n",
       "      <td>1.308569</td>\n",
       "      <td>0.089200</td>\n",
       "      <td>3.165134</td>\n",
       "      <td>0.406196</td>\n",
       "    </tr>\n",
       "    <tr>\n",
       "      <th>405</th>\n",
       "      <td>(duty-free-exports, mx-missile, adoption-of-th...</td>\n",
       "      <td>(anti-satellite-test-ban, aid-to-nicaraguan-co...</td>\n",
       "      <td>0.430712</td>\n",
       "      <td>0.707865</td>\n",
       "      <td>0.389513</td>\n",
       "      <td>0.904348</td>\n",
       "      <td>1.277571</td>\n",
       "      <td>0.084627</td>\n",
       "      <td>3.054137</td>\n",
       "      <td>0.381642</td>\n",
       "    </tr>\n",
       "  </tbody>\n",
       "</table>\n",
       "</div>"
      ],
      "text/plain": [
       "                                           antecedents  \\\n",
       "375  (mx-missile, adoption-of-the-budget-resolution...   \n",
       "381  (anti-satellite-test-ban, mx-missile, handicap...   \n",
       "382  (aid-to-nicaraguan-contras, mx-missile, handic...   \n",
       "405  (duty-free-exports, mx-missile, adoption-of-th...   \n",
       "\n",
       "                                           consequents  antecedent support  \\\n",
       "375  (anti-satellite-test-ban, aid-to-nicaraguan-co...            0.415730   \n",
       "381  (adoption-of-the-budget-resolution, aid-to-nic...            0.397004   \n",
       "382  (anti-satellite-test-ban, adoption-of-the-budg...            0.419476   \n",
       "405  (anti-satellite-test-ban, aid-to-nicaraguan-co...            0.430712   \n",
       "\n",
       "     consequent support   support  confidence      lift  leverage  conviction  \\\n",
       "375            0.707865  0.378277    0.909910  1.285428  0.083996    3.242697   \n",
       "381            0.760300  0.378277    0.952830  1.253230  0.076435    5.081648   \n",
       "382            0.689139  0.378277    0.901786  1.308569  0.089200    3.165134   \n",
       "405            0.707865  0.389513    0.904348  1.277571  0.084627    3.054137   \n",
       "\n",
       "     zhangs_metric  \n",
       "375       0.380046  \n",
       "381       0.335096  \n",
       "382       0.406196  \n",
       "405       0.381642  "
      ]
     },
     "execution_count": 146,
     "metadata": {},
     "output_type": "execute_result"
    }
   ],
   "source": [
    "rules_dem[ (rules_dem['lift'] >= 1.25) & (rules_dem['confidence'] >= 0.9) ]"
   ]
  },
  {
   "cell_type": "code",
   "execution_count": 132,
   "metadata": {},
   "outputs": [],
   "source": [
    "data = df.iloc[:, 1:18]\n",
    "target = df.iloc[:, 0]"
   ]
  },
  {
   "cell_type": "code",
   "execution_count": 133,
   "metadata": {},
   "outputs": [
    {
     "data": {
      "text/plain": [
       "democrat      267\n",
       "republican    167\n",
       "Name: Class Name, dtype: int64"
      ]
     },
     "execution_count": 133,
     "metadata": {},
     "output_type": "execute_result"
    }
   ],
   "source": [
    "target.value_counts()"
   ]
  },
  {
   "cell_type": "code",
   "execution_count": 134,
   "metadata": {},
   "outputs": [],
   "source": [
    "np.random.seed(123)\n",
    "os = SMOTEN()\n",
    "\n",
    "X_new, y_new = os.fit_resample(data, target)"
   ]
  },
  {
   "cell_type": "code",
   "execution_count": 135,
   "metadata": {},
   "outputs": [],
   "source": [
    "# Combine X_new and y_new into a DataFrame\n",
    "df_resampled = pd.DataFrame(data=X_new, columns=data.columns)\n",
    "df_resampled['target'] = y_new"
   ]
  },
  {
   "cell_type": "code",
   "execution_count": 136,
   "metadata": {},
   "outputs": [],
   "source": [
    "voting_df_rep_resample = df_resampled[df_resampled['target'] == 'republican']\n",
    "voting_df_dem_resample= df_resampled[df_resampled['target'] == 'democrat']"
   ]
  },
  {
   "cell_type": "code",
   "execution_count": 137,
   "metadata": {},
   "outputs": [],
   "source": [
    "voting_set_rep_resample = voting_df_rep_resample.iloc[:, :-1].copy()\n",
    "voting_set_dem_resample = voting_df_dem_resample.iloc[:, :-1].copy()"
   ]
  },
  {
   "cell_type": "code",
   "execution_count": 138,
   "metadata": {},
   "outputs": [
    {
     "name": "stderr",
     "output_type": "stream",
     "text": [
      "c:\\Users\\stoer\\anaconda3\\envs\\Machine_learning\\Lib\\site-packages\\mlxtend\\frequent_patterns\\fpcommon.py:110: DeprecationWarning: DataFrames with non-bool types result in worse computationalperformance and their support might be discontinued in the future.Please use a DataFrame with bool type\n",
      "  warnings.warn(\n"
     ]
    }
   ],
   "source": [
    "# Rule for rep\n",
    "frequent_itemsets_rep_resample= apriori(voting_set_rep_resample, min_support=0.11, use_colnames=True)"
   ]
  },
  {
   "cell_type": "code",
   "execution_count": 139,
   "metadata": {},
   "outputs": [],
   "source": [
    "rules_rep_re = association_rules(frequent_itemsets_rep_resample, metric=\"lift\", min_threshold=1) "
   ]
  },
  {
   "cell_type": "code",
   "execution_count": 140,
   "metadata": {},
   "outputs": [
    {
     "data": {
      "text/html": [
       "<div>\n",
       "<style scoped>\n",
       "    .dataframe tbody tr th:only-of-type {\n",
       "        vertical-align: middle;\n",
       "    }\n",
       "\n",
       "    .dataframe tbody tr th {\n",
       "        vertical-align: top;\n",
       "    }\n",
       "\n",
       "    .dataframe thead th {\n",
       "        text-align: right;\n",
       "    }\n",
       "</style>\n",
       "<table border=\"1\" class=\"dataframe\">\n",
       "  <thead>\n",
       "    <tr style=\"text-align: right;\">\n",
       "      <th></th>\n",
       "      <th>antecedents</th>\n",
       "      <th>consequents</th>\n",
       "      <th>antecedent support</th>\n",
       "      <th>consequent support</th>\n",
       "      <th>support</th>\n",
       "      <th>confidence</th>\n",
       "      <th>lift</th>\n",
       "      <th>leverage</th>\n",
       "      <th>conviction</th>\n",
       "      <th>zhangs_metric</th>\n",
       "    </tr>\n",
       "  </thead>\n",
       "  <tbody>\n",
       "    <tr>\n",
       "      <th>6884</th>\n",
       "      <td>(el-salvador-aid, anti-satellite-test-ban, imm...</td>\n",
       "      <td>(physician-fee-freeze, crime, export-administr...</td>\n",
       "      <td>0.127341</td>\n",
       "      <td>0.569288</td>\n",
       "      <td>0.127341</td>\n",
       "      <td>1.0</td>\n",
       "      <td>1.756579</td>\n",
       "      <td>0.054847</td>\n",
       "      <td>inf</td>\n",
       "      <td>0.493562</td>\n",
       "    </tr>\n",
       "  </tbody>\n",
       "</table>\n",
       "</div>"
      ],
      "text/plain": [
       "                                            antecedents  \\\n",
       "6884  (el-salvador-aid, anti-satellite-test-ban, imm...   \n",
       "\n",
       "                                            consequents  antecedent support  \\\n",
       "6884  (physician-fee-freeze, crime, export-administr...            0.127341   \n",
       "\n",
       "      consequent support   support  confidence      lift  leverage  \\\n",
       "6884            0.569288  0.127341         1.0  1.756579  0.054847   \n",
       "\n",
       "      conviction  zhangs_metric  \n",
       "6884         inf       0.493562  "
      ]
     },
     "execution_count": 140,
     "metadata": {},
     "output_type": "execute_result"
    }
   ],
   "source": [
    "rules_rep_re[ (rules_rep_re['lift'] >= 1.75) & (rules_rep_re['confidence'] >= 0.95) ]"
   ]
  },
  {
   "cell_type": "code",
   "execution_count": 141,
   "metadata": {},
   "outputs": [
    {
     "name": "stderr",
     "output_type": "stream",
     "text": [
      "c:\\Users\\stoer\\anaconda3\\envs\\Machine_learning\\Lib\\site-packages\\mlxtend\\frequent_patterns\\fpcommon.py:110: DeprecationWarning: DataFrames with non-bool types result in worse computationalperformance and their support might be discontinued in the future.Please use a DataFrame with bool type\n",
      "  warnings.warn(\n"
     ]
    }
   ],
   "source": [
    "frequent_itemsets_dem_resample= apriori(voting_set_dem_resample, min_support=0.11, use_colnames=True)"
   ]
  },
  {
   "cell_type": "code",
   "execution_count": 142,
   "metadata": {},
   "outputs": [],
   "source": [
    "rules_dem_re = association_rules(frequent_itemsets_dem_resample, metric=\"lift\", min_threshold=1) "
   ]
  },
  {
   "cell_type": "code",
   "execution_count": 143,
   "metadata": {},
   "outputs": [
    {
     "data": {
      "text/html": [
       "<div>\n",
       "<style scoped>\n",
       "    .dataframe tbody tr th:only-of-type {\n",
       "        vertical-align: middle;\n",
       "    }\n",
       "\n",
       "    .dataframe tbody tr th {\n",
       "        vertical-align: top;\n",
       "    }\n",
       "\n",
       "    .dataframe thead th {\n",
       "        text-align: right;\n",
       "    }\n",
       "</style>\n",
       "<table border=\"1\" class=\"dataframe\">\n",
       "  <thead>\n",
       "    <tr style=\"text-align: right;\">\n",
       "      <th></th>\n",
       "      <th>antecedents</th>\n",
       "      <th>consequents</th>\n",
       "      <th>antecedent support</th>\n",
       "      <th>consequent support</th>\n",
       "      <th>support</th>\n",
       "      <th>confidence</th>\n",
       "      <th>lift</th>\n",
       "      <th>leverage</th>\n",
       "      <th>conviction</th>\n",
       "      <th>zhangs_metric</th>\n",
       "    </tr>\n",
       "  </thead>\n",
       "  <tbody>\n",
       "    <tr>\n",
       "      <th>532</th>\n",
       "      <td>(el-salvador-aid, superfund-right-to-sue)</td>\n",
       "      <td>(crime)</td>\n",
       "      <td>0.142322</td>\n",
       "      <td>0.337079</td>\n",
       "      <td>0.131086</td>\n",
       "      <td>0.921053</td>\n",
       "      <td>2.732456</td>\n",
       "      <td>0.083112</td>\n",
       "      <td>8.397004</td>\n",
       "      <td>0.739239</td>\n",
       "    </tr>\n",
       "    <tr>\n",
       "      <th>1554</th>\n",
       "      <td>(water-project-cost-sharing, superfund-right-t...</td>\n",
       "      <td>(religious-groups-in-schools)</td>\n",
       "      <td>0.116105</td>\n",
       "      <td>0.460674</td>\n",
       "      <td>0.112360</td>\n",
       "      <td>0.967742</td>\n",
       "      <td>2.100708</td>\n",
       "      <td>0.058873</td>\n",
       "      <td>16.719101</td>\n",
       "      <td>0.592797</td>\n",
       "    </tr>\n",
       "    <tr>\n",
       "      <th>1854</th>\n",
       "      <td>(superfund-right-to-sue, crime, adoption-of-th...</td>\n",
       "      <td>(religious-groups-in-schools)</td>\n",
       "      <td>0.119850</td>\n",
       "      <td>0.460674</td>\n",
       "      <td>0.119850</td>\n",
       "      <td>1.000000</td>\n",
       "      <td>2.170732</td>\n",
       "      <td>0.064638</td>\n",
       "      <td>inf</td>\n",
       "      <td>0.612766</td>\n",
       "    </tr>\n",
       "    <tr>\n",
       "      <th>2298</th>\n",
       "      <td>(el-salvador-aid, superfund-right-to-sue, crime)</td>\n",
       "      <td>(religious-groups-in-schools)</td>\n",
       "      <td>0.131086</td>\n",
       "      <td>0.460674</td>\n",
       "      <td>0.127341</td>\n",
       "      <td>0.971429</td>\n",
       "      <td>2.108711</td>\n",
       "      <td>0.066953</td>\n",
       "      <td>18.876404</td>\n",
       "      <td>0.605096</td>\n",
       "    </tr>\n",
       "    <tr>\n",
       "      <th>2299</th>\n",
       "      <td>(el-salvador-aid, superfund-right-to-sue, reli...</td>\n",
       "      <td>(crime)</td>\n",
       "      <td>0.134831</td>\n",
       "      <td>0.337079</td>\n",
       "      <td>0.127341</td>\n",
       "      <td>0.944444</td>\n",
       "      <td>2.801852</td>\n",
       "      <td>0.081892</td>\n",
       "      <td>11.932584</td>\n",
       "      <td>0.743316</td>\n",
       "    </tr>\n",
       "    <tr>\n",
       "      <th>2390</th>\n",
       "      <td>(superfund-right-to-sue, crime, synfuels-corpo...</td>\n",
       "      <td>(religious-groups-in-schools)</td>\n",
       "      <td>0.116105</td>\n",
       "      <td>0.460674</td>\n",
       "      <td>0.112360</td>\n",
       "      <td>0.967742</td>\n",
       "      <td>2.100708</td>\n",
       "      <td>0.058873</td>\n",
       "      <td>16.719101</td>\n",
       "      <td>0.592797</td>\n",
       "    </tr>\n",
       "  </tbody>\n",
       "</table>\n",
       "</div>"
      ],
      "text/plain": [
       "                                            antecedents  \\\n",
       "532           (el-salvador-aid, superfund-right-to-sue)   \n",
       "1554  (water-project-cost-sharing, superfund-right-t...   \n",
       "1854  (superfund-right-to-sue, crime, adoption-of-th...   \n",
       "2298   (el-salvador-aid, superfund-right-to-sue, crime)   \n",
       "2299  (el-salvador-aid, superfund-right-to-sue, reli...   \n",
       "2390  (superfund-right-to-sue, crime, synfuels-corpo...   \n",
       "\n",
       "                        consequents  antecedent support  consequent support  \\\n",
       "532                         (crime)            0.142322            0.337079   \n",
       "1554  (religious-groups-in-schools)            0.116105            0.460674   \n",
       "1854  (religious-groups-in-schools)            0.119850            0.460674   \n",
       "2298  (religious-groups-in-schools)            0.131086            0.460674   \n",
       "2299                        (crime)            0.134831            0.337079   \n",
       "2390  (religious-groups-in-schools)            0.116105            0.460674   \n",
       "\n",
       "       support  confidence      lift  leverage  conviction  zhangs_metric  \n",
       "532   0.131086    0.921053  2.732456  0.083112    8.397004       0.739239  \n",
       "1554  0.112360    0.967742  2.100708  0.058873   16.719101       0.592797  \n",
       "1854  0.119850    1.000000  2.170732  0.064638         inf       0.612766  \n",
       "2298  0.127341    0.971429  2.108711  0.066953   18.876404       0.605096  \n",
       "2299  0.127341    0.944444  2.801852  0.081892   11.932584       0.743316  \n",
       "2390  0.112360    0.967742  2.100708  0.058873   16.719101       0.592797  "
      ]
     },
     "execution_count": 143,
     "metadata": {},
     "output_type": "execute_result"
    }
   ],
   "source": [
    "rules_dem_re[ (rules_dem_re['lift'] >= 2.1) & (rules_dem_re['confidence'] >= 0.9) ]"
   ]
  }
 ],
 "metadata": {
  "kernelspec": {
   "display_name": "Machine_learning",
   "language": "python",
   "name": "python3"
  },
  "language_info": {
   "codemirror_mode": {
    "name": "ipython",
    "version": 3
   },
   "file_extension": ".py",
   "mimetype": "text/x-python",
   "name": "python",
   "nbconvert_exporter": "python",
   "pygments_lexer": "ipython3",
   "version": "3.11.5"
  },
  "orig_nbformat": 4
 },
 "nbformat": 4,
 "nbformat_minor": 2
}
